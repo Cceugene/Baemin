{
 "cells": [
  {
   "cell_type": "code",
   "execution_count": 1,
   "id": "14b7b114",
   "metadata": {},
   "outputs": [],
   "source": [
    "from selenium import webdriver\n",
    "from selenium.webdriver.common.keys import Keys\n",
    "import time\n",
    "from bs4 import BeautifulSoup"
   ]
  },
  {
   "cell_type": "code",
   "execution_count": 10,
   "id": "96acaa33",
   "metadata": {},
   "outputs": [
    {
     "name": "stderr",
     "output_type": "stream",
     "text": [
      "C:\\Users\\Eugene\\AppData\\Local\\Temp\\ipykernel_22940\\1611521981.py:2: DeprecationWarning: executable_path has been deprecated, please pass in a Service object\n",
      "  driver = webdriver.Chrome(chrome_driver)\n",
      "C:\\Users\\Eugene\\AppData\\Local\\Temp\\ipykernel_22940\\1611521981.py:11: DeprecationWarning: find_element_by_name is deprecated. Please use find_element(by=By.NAME, value=name) instead\n",
      "  ID = driver.find_element_by_name('id')\n",
      "C:\\Users\\Eugene\\AppData\\Local\\Temp\\ipykernel_22940\\1611521981.py:12: DeprecationWarning: find_element_by_name is deprecated. Please use find_element(by=By.NAME, value=name) instead\n",
      "  PASS = driver.find_element_by_name('password')\n",
      "C:\\Users\\Eugene\\AppData\\Local\\Temp\\ipykernel_22940\\1611521981.py:16: DeprecationWarning: find_element_by_xpath is deprecated. Please use find_element(by=By.XPATH, value=xpath) instead\n",
      "  button = driver.find_element_by_xpath('//*[@class=\"Button__StyledButton-sc-394bsp-0 iqPqWd\"]')\n",
      "C:\\Users\\Eugene\\AppData\\Local\\Temp\\ipykernel_22940\\1611521981.py:26: DeprecationWarning: find_element_by_xpath is deprecated. Please use find_element(by=By.XPATH, value=xpath) instead\n",
      "  driver.find_element_by_xpath(f'//select/option[@value=\"{stores[0]}\"]').click()\n",
      "C:\\Users\\Eugene\\AppData\\Local\\Temp\\ipykernel_22940\\1611521981.py:31: DeprecationWarning: find_element_by_css_selector is deprecated. Please use find_element(by=By.CSS_SELECTOR, value=css_selector) instead\n",
      "  body = driver.find_element_by_css_selector('body')\n"
     ]
    },
    {
     "name": "stdout",
     "output_type": "stream",
     "text": [
      "종료\n"
     ]
    }
   ],
   "source": [
    "chrome_driver = './chromedriver.exe'\n",
    "driver = webdriver.Chrome(chrome_driver)\n",
    "login_url = 'https://ceo.baemin.com/web/login?returnUrl=https%3A%2F%2Fceo.baemin.com%2F'\n",
    "url = 'https://ceo.baemin.com/self-service/shops/13252677/reviews'\n",
    "max_try = 100 #스크롤 횟수\n",
    "\n",
    "driver.get(login_url)\n",
    "time.sleep(1)\n",
    "\n",
    "# Login\n",
    "ID = driver.find_element_by_name('id')\n",
    "PASS = driver.find_element_by_name('password')\n",
    " # id, password\n",
    "ID.send_keys('')\n",
    "PASS.send_keys('')\n",
    "button = driver.find_element_by_xpath('//*[@class=\"Button__StyledButton-sc-394bsp-0 iqPqWd\"]')\n",
    "button.click()\n",
    "time.sleep(1)\n",
    "\n",
    "# 페이지 이동\n",
    "driver.get(url)\n",
    "time.sleep(2)\n",
    "\n",
    "# 가게 선택\n",
    "stores = ['13260990', '13643240', '13442351', '13708011']\n",
    "driver.find_element_by_xpath(f'//select/option[@value=\"{stores[0]}\"]').click()\n",
    "time.sleep(1)\n",
    "\n",
    "# 스크롤\n",
    "for _ in range(max_try):\n",
    "    body = driver.find_element_by_css_selector('body')\n",
    "    body.send_keys(Keys.PAGE_DOWN)\n",
    "    body.send_keys(Keys.PAGE_DOWN)\n",
    "    body.send_keys(Keys.PAGE_DOWN)\n",
    "    body.send_keys(Keys.PAGE_DOWN)\n",
    "    body.send_keys(Keys.PAGE_DOWN)\n",
    "    time.sleep(1)\n",
    "\n",
    "soup = BeautifulSoup(driver.page_source,'html.parser')\n",
    "    \n",
    "    # scrapping (사용자, 별점, 리뷰)\n",
    "nicks = soup.find_all('p', attrs={'class': \"nick\"})\n",
    "stars = soup.find_all('div', attrs={'class': \"rating-stars\"})\n",
    "contents = soup.find_all('p', attrs={'class': \"review-cont\"})\n",
    "\n",
    "\n",
    "print('종료')"
   ]
  },
  {
   "cell_type": "code",
   "execution_count": 11,
   "id": "fbf9491b",
   "metadata": {
    "scrolled": false
   },
   "outputs": [
    {
     "name": "stdout",
     "output_type": "stream",
     "text": [
      "340 340 283\n"
     ]
    }
   ],
   "source": [
    "nick = []\n",
    "star = []\n",
    "cont = []\n",
    "\n",
    "print(len(nicks), len(stars), len(contents))\n",
    "\n",
    "for n, s in zip(nicks, stars):\n",
    "    nick.append(n.text)\n",
    "    star.append(s.text)\n",
    "for c in contents:\n",
    "    cont.append(c.text)"
   ]
  },
  {
   "cell_type": "code",
   "execution_count": 12,
   "id": "2eb1fb48",
   "metadata": {
    "scrolled": true
   },
   "outputs": [
    {
     "name": "stdout",
     "output_type": "stream",
     "text": [
      "['ku', '수정', '진정은율', '우현맘', '여름', '윤짱', '영자신', '홀롤롤롤로', '밀크', 'CUILAN', '민노래', '무챠', 'xfct****', '곰쥐', '행대', '낭만고앵이', '암악', '곰쥐', 'sseimi', '까비', 'dlgh****', '내가왔댜ㅏ', '그냥저냥', '동동', 'Twoone', '승타기', '한회장', 'yun', '맛있냥', '종현', 'tron****', '나으시', '배민갓', '후달이', '몽구', '나경록', 'suji****', '곰쥐', 'qwer****', '담걸', 'a4aa****', '박서준', '룰루랄라', '냠냠', '리뷰러', 'blackberry', '서윤경', 'ykpykp', '미지', 'ㅎㅇ', 'SunGad', '돼지', '니니짱', '땡구야기영이어딨니', 'dndn', '곰쥐', '긍정', 'moon****', '나나', '옴뇸뇸', 'sion****', '깡총', '서윤경', '권순찬', '먹자맛있게', '츄파춥수', '후달이', '내맘', '박종석', '살라', '혀니', 'hioxxe', '주나', '맛도모르는손', 'skdud098', '와우꼬꼬', 'ㅇㅅㅇㅇ', '다닫다', '곰쥐', 'ysoo****', '날배짱이', '머루날자', '꼬물맘', '승타기', '정은미', '쭉정', '맛있는거좋아', '뱅군', '그루', 'gh0124', '안근호', '호호오옹', '정인호', '응지나', '음식의불시착', '랑쯔', '샤넬', '동백이', 'hjhk', '맛있어야시킴', 'ㅇㅡㅇ', '배민충주브이아이피', '서윤경', '애리', '보옥히', '승타기', '치킨바라기', '룰루랄라', '청이웅이', '룰루랄라', '이정현', '맛잇게먹겟습니다', '소리29', '485548', '지미', '212', '방울토마토', '박윤수', '자연인', '엘리나', '서윤경', '나나', 'ㅇㅅㅇ', 'rokmc636', 'gyuri90', '호잇홍', 'qkrr****', '안근호', '다조은', '세아이맘', 'jaesss', '양키놈', '뽀사', 'Julia', '언제나천생연분', '이산저산', '내맘', '둠팡둠팡', 'CHAN', '충주장금이', '곰쥐', '연수동메시', '맛점하세요', '웅얼', '휴이', '오리', '니니', '람톨', '박군', '오빵구HT', '복고매니아', '블루루인', 'MoMo', '아찔', '로꾸', 'kaos****', '배달통', 'hyehyehye', '청경채', 'Daeeey', '쏘잉', '서윤경', '깨식', 'youny', 'csh', '배민과천생연분', '커피는카누', '써니마미', '뭐먹지', '크로나', '보리맘', '마싯네', '시켜먹는애', '연수동메시', '헤헤헿', '뉴캐슬', 'fkrr****', '레이첼', '룰루', '곰쥐', '먹고자기', '용산동끼리', 'ddss', '서윤경', '냠냠냠', '다람쥐', '맛집탐방중', '귀한곳누추한분', '임완수', '크루루루이', '용도리님', '급격한행동', 'dmsd****', '나야나', 'snjs****', '우와아아아아아', '닉넴쓰', '이슬', '슝이', '정직', 'dusky', '슛팅천재', 'Jae0', 'hedy', '이서호', '곰쥐', 'ㅣim', '그루', '은율', '볼드모트', '빙그레', 'anbohee050', '먹교수', '배민으로배많이나옴', '헨리왕자', '아ㅏ아우아나', '아배고파', '먀옹만두씨', '뽀사', '먹방', '치킨임', '맛없으면쪼차가요', '웅얼', '이동선', '통찰이', '히야신스', '야식이필요해', '리주', 'seonho1338', '강강강', '깨순', '365일다이어터', '훅간다', '깅질니', '마시쪙', '시켜먹는애', 'have****', '용군', '맛도모르는손', '리리파파', '벨라', '맛있으면짖는개', '나냐나', '꾸링', '한경', '여니밀크', '서윤경', 'Ijayoi', '맛점하세요', 'hjhk', 'cdr1****', '자몽', '뽀사', '안젤리나', '헬창아재', '배고픈쿠기', '손바람', '여름열무', '한글왜안되', 'hwanquee', '방배동댄스머신', '지니', '채진승', '쭈슈', 'lisa****', '룡룡', '맛있으면광광우는광어', '냑냑냐용이', '쏘잉', 'cleo', '먹방', '우니닥', '겸둥이', '잘먹고잘삽시다', '효니', 'hioxxe', '행대', '크님', 'je36****', '냠냠', '동동이', '마시따요', '타준', '헬로카봇', '혀어어어어언', 'vosema', 'kkkkkkkkk', '맛있으면우는억새', 'jonmattang', '당근', '먹교수', '너굴너굴', '샐러드는맛있다', 'nb15****', 'gpwl****', 'toktok', '웅얼', 'jhna****', '써니마미', '사랑듕이', '냐미냐미', '배고프다', 'have****', 'shim****', '웰치스오렌지', '과거공주', '맛점하세요', '푸믈리에', '맛있다고뽀뽀뽀', 'dkfk810', '엽기개구리', '쭈우', '사랑듕이', '키키김', 'samsa', '루피', '오운몽', '냠냠2', '너굴너굴', '옴뇸뇸', '류아', '홀로살이', '난하늘', 'hg1234', '쩡잉', '배민왕', '너굴맨', '서윤경', '호호호', 'gara****', '서윤경', '푸믈리에', 'soeunny', '뚱이언니', '맛있으면오지랖부림', '차롸촨', '이승준', 'jeee', '행대', '혀니']\n"
     ]
    }
   ],
   "source": [
    "print(nick)"
   ]
  },
  {
   "cell_type": "markdown",
   "id": "051da874",
   "metadata": {},
   "source": [
    "## 파일로 저장하기"
   ]
  },
  {
   "cell_type": "code",
   "execution_count": 9,
   "id": "d438f762",
   "metadata": {},
   "outputs": [],
   "source": [
    "import pickle\n",
    "\n",
    "with open('conts_TAKO.pkl', 'wb') as f:\n",
    "    pickle.dump(cont, f)"
   ]
  },
  {
   "cell_type": "markdown",
   "id": "b5499ab2",
   "metadata": {},
   "source": [
    "# 데이터 탐색"
   ]
  },
  {
   "cell_type": "code",
   "execution_count": 13,
   "id": "ae15b56d",
   "metadata": {},
   "outputs": [],
   "source": [
    "import pandas as pd"
   ]
  },
  {
   "cell_type": "markdown",
   "id": "b27839a4",
   "metadata": {},
   "source": [
    "## 단골 손님"
   ]
  },
  {
   "cell_type": "code",
   "execution_count": 14,
   "id": "90c62b5a",
   "metadata": {},
   "outputs": [
    {
     "data": {
      "text/html": [
       "<div>\n",
       "<style scoped>\n",
       "    .dataframe tbody tr th:only-of-type {\n",
       "        vertical-align: middle;\n",
       "    }\n",
       "\n",
       "    .dataframe tbody tr th {\n",
       "        vertical-align: top;\n",
       "    }\n",
       "\n",
       "    .dataframe thead th {\n",
       "        text-align: right;\n",
       "    }\n",
       "</style>\n",
       "<table border=\"1\" class=\"dataframe\">\n",
       "  <thead>\n",
       "    <tr style=\"text-align: right;\">\n",
       "      <th></th>\n",
       "      <th>ID</th>\n",
       "      <th>Star</th>\n",
       "    </tr>\n",
       "  </thead>\n",
       "  <tbody>\n",
       "    <tr>\n",
       "      <th>0</th>\n",
       "      <td>ku</td>\n",
       "      <td>5</td>\n",
       "    </tr>\n",
       "    <tr>\n",
       "      <th>1</th>\n",
       "      <td>수정</td>\n",
       "      <td>5</td>\n",
       "    </tr>\n",
       "    <tr>\n",
       "      <th>2</th>\n",
       "      <td>진정은율</td>\n",
       "      <td>5</td>\n",
       "    </tr>\n",
       "    <tr>\n",
       "      <th>3</th>\n",
       "      <td>우현맘</td>\n",
       "      <td>5</td>\n",
       "    </tr>\n",
       "    <tr>\n",
       "      <th>4</th>\n",
       "      <td>여름</td>\n",
       "      <td>5</td>\n",
       "    </tr>\n",
       "    <tr>\n",
       "      <th>...</th>\n",
       "      <td>...</td>\n",
       "      <td>...</td>\n",
       "    </tr>\n",
       "    <tr>\n",
       "      <th>335</th>\n",
       "      <td>차롸촨</td>\n",
       "      <td>5</td>\n",
       "    </tr>\n",
       "    <tr>\n",
       "      <th>336</th>\n",
       "      <td>이승준</td>\n",
       "      <td>5</td>\n",
       "    </tr>\n",
       "    <tr>\n",
       "      <th>337</th>\n",
       "      <td>jeee</td>\n",
       "      <td>5</td>\n",
       "    </tr>\n",
       "    <tr>\n",
       "      <th>338</th>\n",
       "      <td>행대</td>\n",
       "      <td>5</td>\n",
       "    </tr>\n",
       "    <tr>\n",
       "      <th>339</th>\n",
       "      <td>혀니</td>\n",
       "      <td>5</td>\n",
       "    </tr>\n",
       "  </tbody>\n",
       "</table>\n",
       "<p>340 rows × 2 columns</p>\n",
       "</div>"
      ],
      "text/plain": [
       "       ID Star\n",
       "0      ku    5\n",
       "1      수정    5\n",
       "2    진정은율    5\n",
       "3     우현맘    5\n",
       "4      여름    5\n",
       "..    ...  ...\n",
       "335   차롸촨    5\n",
       "336   이승준    5\n",
       "337  jeee    5\n",
       "338    행대    5\n",
       "339    혀니    5\n",
       "\n",
       "[340 rows x 2 columns]"
      ]
     },
     "execution_count": 14,
     "metadata": {},
     "output_type": "execute_result"
    }
   ],
   "source": [
    "df = pd.DataFrame(zip(nick, star), columns=['ID', 'Star'])\n",
    "df"
   ]
  },
  {
   "cell_type": "code",
   "execution_count": 15,
   "id": "6eb9e95a",
   "metadata": {},
   "outputs": [],
   "source": [
    "dup = pd.DataFrame(df.groupby(['ID']).size())\n",
    "dg = list(dup[dup[0] != 1].index)"
   ]
  },
  {
   "cell_type": "code",
   "execution_count": 16,
   "id": "b2408e08",
   "metadata": {},
   "outputs": [
    {
     "name": "stdout",
     "output_type": "stream",
     "text": [
      "           ID Star\n",
      "236  have****    5\n",
      "302  have****    5\n",
      "         ID Star\n",
      "71   hioxxe    5\n",
      "275  hioxxe    5\n",
      "       ID Star\n",
      "98   hjhk    5\n",
      "249  hjhk    5\n",
      "     ID Star\n",
      "13   곰쥐    5\n",
      "17   곰쥐    5\n",
      "37   곰쥐    5\n",
      "55   곰쥐    5\n",
      "78   곰쥐    5\n",
      "140  곰쥐    5\n",
      "179  곰쥐    5\n",
      "205  곰쥐    4\n",
      "     ID Star\n",
      "88   그루    5\n",
      "207  그루    5\n",
      "     ID Star\n",
      "58   나나    5\n",
      "121  나나    5\n",
      "     ID Star\n",
      "67   내맘    5\n",
      "136  내맘    5\n",
      "     ID Star\n",
      "43   냠냠    5\n",
      "279  냠냠    5\n",
      "       ID Star\n",
      "291  너굴너굴    5\n",
      "318  너굴너굴    5\n",
      "       ID Star\n",
      "42   룰루랄라    5\n",
      "107  룰루랄라    5\n",
      "109  룰루랄라    5\n",
      "         ID Star\n",
      "73   맛도모르는손    5\n",
      "238  맛도모르는손    5\n",
      "        ID Star\n",
      "142  맛점하세요    5\n",
      "248  맛점하세요    5\n",
      "306  맛점하세요    5\n",
      "      ID Star\n",
      "212  먹교수    5\n",
      "290  먹교수    5\n",
      "     ID Star\n",
      "219  먹방    5\n",
      "270  먹방    5\n",
      "     ID Star\n",
      "132  뽀사    5\n",
      "218  뽀사    5\n",
      "252  뽀사    5\n",
      "       ID Star\n",
      "299  사랑듕이    5\n",
      "312  사랑듕이    5\n",
      "      ID Star\n",
      "46   서윤경    5\n",
      "62   서윤경    5\n",
      "102  서윤경    5\n",
      "120  서윤경    5\n",
      "161  서윤경    5\n",
      "183  서윤경    5\n",
      "246  서윤경    5\n",
      "327  서윤경    5\n",
      "330  서윤경    5\n",
      "      ID Star\n",
      "25   승타기    5\n",
      "83   승타기    5\n",
      "105  승타기    5\n",
      "        ID Star\n",
      "172  시켜먹는애    5\n",
      "235  시켜먹는애    5\n",
      "       ID Star\n",
      "167  써니마미    5\n",
      "298  써니마미    5\n",
      "     ID Star\n",
      "160  쏘잉    5\n",
      "268  쏘잉    5\n",
      "      ID Star\n",
      "90   안근호    5\n",
      "127  안근호    5\n",
      "        ID Star\n",
      "141  연수동메시    5\n",
      "173  연수동메시    5\n",
      "      ID Star\n",
      "59   옴뇸뇸    5\n",
      "319  옴뇸뇸    5\n",
      "     ID Star\n",
      "143  웅얼    5\n",
      "222  웅얼    5\n",
      "296  웅얼    5\n",
      "       ID Star\n",
      "307  푸믈리에    5\n",
      "331  푸믈리에    5\n",
      "     ID Star\n",
      "14   행대    5\n",
      "276  행대    5\n",
      "338  행대    5\n",
      "     ID Star\n",
      "70   혀니    5\n",
      "339  혀니    5\n",
      "     ID Star\n",
      "33  후달이    5\n",
      "66  후달이    5\n"
     ]
    }
   ],
   "source": [
    "for i in dg:\n",
    "    print(df[df['ID'] == i])"
   ]
  },
  {
   "cell_type": "markdown",
   "id": "d7e76b41",
   "metadata": {},
   "source": [
    "## 리뷰"
   ]
  },
  {
   "cell_type": "code",
   "execution_count": 17,
   "id": "e34d0c44",
   "metadata": {},
   "outputs": [
    {
     "data": {
      "text/plain": [
       "['진짜.. 여기 사장님? 임사부님? 이렇게 맛있어도 되는거에요?양념부터, 고기 간 까지 굉장히 맛이 섬세하세요.첫 입에 맛있는데 끝 입에 아쉬운..무조건 고기 추가입니다.냉면 배달 안시켜 먹어봐서 어디가 맛있고 모르지만여기 찜!!! 육쌈 냉면은 여기👊비냉 육수 조금 더 주셨으면 좋겠어요.',\n",
       " '이제까지 배달 냉면 중에 최고네요!면이 확실히 다릅니다~약간 간이 센거 같아서 다음엔 양념 좀 적게 넣어달라고 할게요정말 맛있습니다',\n",
       " '배달 냉면중에 최고였어요. 양도적당하고  회냉 오리지널도 약간얼큰했어요. 물냉은 육수가 깔끔하고 시원했어요. 포장도 깔끔하고 좋았습니다. 재주문할겁니다. 담에도 맛있게 부탁드려요. ^^',\n",
       " '너무맛있게잘먹었어요 배달냉면 거의맛없던데 여긴 최고네요 ㅋㅋ 냉면진짜잘먹었습니다',\n",
       " '냉면을 배달해서시킬때마다 항상 후회하곤했는데여긴 다르네요 와이프랑 감탄하며 먹었네요 오랜만에 맛있는냉면 먹었습니다.',\n",
       " '배달 냉면중에 퀄리티가 가장 좋은것 같습니다. 맛도 좋고 앞으로 냉면은 여기다 시켜야 겠어요',\n",
       " '맛,양,포장,배달 달 짱요!단 불고기 맛이 좀 짭니다그거 빼면 진짜 맛멋집입니다',\n",
       " '어제 닭갈비를 먹은 사람이 있어 상큼한 메뉴를 시켰는데, 양도 맛도 만족합니다. 배달도 👍 굿갈비만두 쫄깃쫄깃 좋습니다.',\n",
       " '사장님 일단 별은 다섯개 드립니다.리뷰 이벤트를 했으니..하지만..음식 픽업후 30분 걸린다면 2중 3중 배달이겠죠?! 냉면이.. 거짓말 좀 보태서 우동 면발로 변해 있었습니다.정말 먹을수 없을만큼 불어 있네요.. 돈까스냉면 곱빼기 하나랑 국밥 냉면 세트에 면사리 추가 했는데.. 보통 면사리는 따로 보내주시지 않나요? 한번에 다 넣어놔서 같이 퉁퉁 잘 불어 있었네요.. 냉면 맛없게 먹은적은 처음 입니다.ㅠㅠ그래도 같이 시킨 국밥은 식어도 맛있었네요..수고하세요..',\n",
       " '배달팁 5500원을 주고도 자주 시켜먹는 맛입니다...']"
      ]
     },
     "execution_count": 17,
     "metadata": {},
     "output_type": "execute_result"
    }
   ],
   "source": [
    "fasts = ['빨', '빠']\n",
    "slows = ['늦', '느']\n",
    "Fasters = []\n",
    "Slowers = []\n",
    "total = 0\n",
    "etc = []\n",
    "\n",
    "for i in cont:\n",
    "    if '배달' in i:\n",
    "        for f in fasts:\n",
    "            if f in i:\n",
    "                Fasters.append(i)\n",
    "        for s in slows:\n",
    "            if s in i:\n",
    "                Slowers.append(i)\n",
    "        if (i not in Slowers) and (i not in Fasters):\n",
    "            etc.append(i)\n",
    "        total += 1\n",
    "etc"
   ]
  },
  {
   "cell_type": "code",
   "execution_count": 18,
   "id": "e09b8a68",
   "metadata": {},
   "outputs": [
    {
     "data": {
      "text/plain": [
       "True"
      ]
     },
     "execution_count": 18,
     "metadata": {},
     "output_type": "execute_result"
    }
   ],
   "source": [
    "len(Fasters)+len(Slowers)+len(etc) == total"
   ]
  },
  {
   "cell_type": "markdown",
   "id": "bb39fff7",
   "metadata": {},
   "source": [
    "### 단어 검색"
   ]
  },
  {
   "cell_type": "code",
   "execution_count": 19,
   "id": "32f10898",
   "metadata": {},
   "outputs": [],
   "source": [
    "def find_word(words):\n",
    "    for i in cont:\n",
    "        for w in words:\n",
    "            if w in i:\n",
    "                print(i)"
   ]
  },
  {
   "cell_type": "code",
   "execution_count": 20,
   "id": "6df83b77",
   "metadata": {},
   "outputs": [
    {
     "name": "stdout",
     "output_type": "stream",
     "text": [
      "특제소스도 맛있구 냉면도 맛있고 다 맛있어요 또 시켜막을께요ㅠ\n",
      "돈까스 소스 너무 맛있어요 많이 달라했는데 하나 더주셔서 좋았습니다\n",
      "어제 점심에 시켜 먹었는데, 리뷰가 늦었네요 ㅠ.ㅠ~~면도 쫄깃하고 양념도 독특하게 맛있네요.소스 직접 만드시나봐요!!보통 냉면집에서 맛볼 수 없는 맛이었습니다.열무랑 배가 아삭아삭 씹히는데 여름철별미에요.\n",
      "맛있네요~!돈까스 바싹하고~♡ 소스가 특이하네요ㅎㅎ맛있어요^^\n",
      "국밥도 맛있었는데 냉면도 맛있네요! 돈까스 소스가 진짜 맛있습니다. 서비스로 주신 만두도 맛있고 시원하게 잘먹었네요.\n",
      "돈까스 소스 앞으로 이렇게 오나요 아니면 오늘만 이런건가요 원래 빨간색 소스가 더 맛있었는데 시판소스로 바뀌었네요ㅜㅜ\n"
     ]
    }
   ],
   "source": [
    "find_word(['소스'])"
   ]
  },
  {
   "cell_type": "code",
   "execution_count": 122,
   "id": "34fb3ba4",
   "metadata": {},
   "outputs": [
    {
     "name": "stdout",
     "output_type": "stream",
     "text": [
      "자알 먹었습니다! 양이 너무 많은거 같아요!!\n",
      "양도 많고 무엇보다 맛있습니다!\n",
      "양이 생각보다 정말 많네요! 둘이서 세끼 다 타코야끼로만 먹었어요ㅋㅋㅋ 맛있어요!🥰 청양마요는 맵찔이 입맛에 좀 맵더라구요!\n",
      "타코야끼 속도 너무 맛있고 양도 푸짐하고 좋았습니다! 서비스 타코야끼도 감사합니다! 다음에는 다른 맛도 먹어보고 싶네요\n",
      "맛, 양 다 좋았습니다. 리뷰이벤트로 보내주신 쿨피스도 기분이 좋았네요^^\n",
      "양도 푸짐하고 빨리 와서 너무 좋네요\n",
      "양 엄청많네요ㅋㅋ맛있습니다\n",
      "양많고 맛있게 잘먹었어요 ㅎ매콤한맛 추천\n",
      "양도 많구 맛있었어요~ 리뷰서비스까지 완벽ㅜㅜ 치밥 맛있어서 자꾸생각나욯ㅎㅎㅎ\n",
      "타코야끼 정말 맛있어요! 날치알마요 주먹밥도 양이 정말 많아서 배부르게 잘 먹었습니다!!\n",
      "양도 적당하고 맛있어요\n",
      "양도 낭낭하고 맛잇읍니다\n",
      "양 제가 먹었던 타코야끼중에 제일 많았어요ㅜㅜ 진짜 푸짐해요.ᐟ.ᐟ 맛있게먹었습니당🤍\n",
      "두번째 시켜먹는데 양도 많고 너무 맛있어요! 배달도 빨리 왔습니당!!\n",
      "맛잇고 양도 푸짐하네요 넘맛잇게 잘먹었습니다  담에 또 주문할께요\n",
      "오랜만에 먹어서 더 맛있었어요양도 많고 짱입니당👍\n",
      "진짜 양도 많고 맛있어요\n",
      "혼자먹으려고샀는데 양도 많고!! 매콤하게했더니 적당하게 매콤해서 좋았어요 ㅎㅎ 떡볶이도 너무맛있어서 정말 잘먹었습니다!!! 혼자먹기는 많아서 남겨두고 또 먹으려구요 ㅎㅎ\n",
      "양도 많고 너무 맛있어요~~\n",
      "타코야끼를 너무 사랑하는 1인입니다리뷰보고 기대가 컸는데..ㅠㅠ 눅눅하고 살짝덜익은것같은 느낌적인느낌이..ㅠㅠ포장하실때 구멍을 내주셔야될것같아요바싹튀긴 치킨을 봉지에 담아오면 눅눅해지잖아요그런느낌이예요ㅠㅠ그리고 맛은 바베큐랑 청양마요 시켰는데제입엔 청양마요가 더맛나네요ㅎㅎㅎ매운거못드시는분들은 시키시면안될것같아여그리고돈까스는 피카츄돈까스처럼 그런맛일줄알았는데너무맛있어요!!!@!!!돈까스 생각날때 2개시켜서 먹어야겠어요ㅋㅋㅋㅋㅋㅋㅋㅋ\n",
      "개굴개굴개글개굴개굴개굴개굴개굴🐸🐸🐸🐸❤️❤️❤️❤️❤️❤️❤️❤️❤️❤️❤️❤️타코야끼 채고 ㅠㅠㅠ와….청양고추맛 개맛있어요ㅠㅠㅜㅜㅜㅜ 미니떡볶이도..!!!\n",
      "그냥 12알은 적을거같아서 많은걸로 시켰는데 생각보다 양이 많아서 배부르게 먹을거같아요!\n",
      "일단 너무 맛있었어요! 그리고 미니떡볶이라고 하길래 시켰는데 양이 진짜..ㅋㅋ 너무 많았어요! 근데 한가지 아쉬운 점은 안에 들어가있는 문어?가 너무 작아서 씹히는 맛이 부족했던거 같아요. 그래도 다시 시키라고 하면 시킬것 같습니다! 많이 파세요~\n",
      "처음시켜봤는데 양도많고 엄청 맛있더라구요 엄청 강추합니다 ~사진에는 반반만 찍었지만 저거 말고도 양이 엄청 많았습니다~\n",
      "양도 많고 리뷰이벵도 맛있고  너무 잘 먹었습니다!!\n",
      "양도 많고 맛있습니다.\n",
      "파마산 치즈랑 청양마요 정말 맛있었습니다\n",
      "대파랑 청양마요 두개시켰는데 진짜 맛 미쳤습니다.. 특히 대파는 첨먹어봤는데 너무맛있어요ㅠㅠ 조합 최고입니당 꼭시켜드세용ㅠㅠ 잘먹었습니다!\n",
      "맛있어요!! 양념도 되게 맛잇엇습니당\n",
      "길거리음식으로만 먹던건데 배달시켜먹으니 편하고 좋습니다~ 맛도 다양해서 골라먹는맛이 있어요\n",
      "양도 많고 촉촉하고 너무 맛있었어요 ㅜㅜ\n",
      "양도많고 맛잇습니다 기모띠히\n",
      "진짜 맛있어요!청양마요랑 대파했는데매콤하고 맛있어요~진짜 순삭했어요ㅋㅋㅋ\n",
      "소스양이 부족했지만 맛있었어요\n",
      "양도 많고 배달인데도 불구하고 따뜻하게 잘 왔습니다! 오리지널도 맛있지만 추가로 주문한 바베큐 맛이랑 청양마요맛도 정말 맛있었어요!! 소스가 생각보다 적어서 아주 조금 아쉬웠어요..! 저는 개인적으로 소스 듬뿍 찍어 먹는걸 좋아해서 다음에는 소스 많이 뿌려달라고 따로 말씀드려야할 것 같아요ㅎㅎ 잘 먹었습니다!\n",
      "다 맛있어요! 양이 디따 많았습니다! 다음에도 시킬게요!\n",
      "우유튀김 꿀맛 타코야키 매운양념 존맛 서비스 굿 👍 😍\n",
      "양도 푸짐하고 맛있게 잘먹었습니다~\n",
      "너무 맛있어요 ! 양념도 적절하게 들어가있어서 맛있는 거 같아요 ㅎ 배달도 빠르고 좋습니다 :) 다시 한 번 먹고 싶은 곳이에요 !!\n",
      "배달로 처음 타코야끼 시켜봤는데배달도 빠르고 가족이랑 잘 먹었습니다~맵찔이라서 일반 양념이랑 청양마요는 좀 맵네요 ㅠ리뷰이벤트도 잘 챙겨주시고 타코야끼 생각날때마다자주 시켜먹겠습니다~\n",
      "타코야끼에 불닭볶음면 먹는 게 유행이라 하길래 먹어봤는데 완전 맛있어용 히힛 그리고 볶음밥 양 너무 많아여💓💓 배달 50분 걸린다고 했는데 49분 걸렸어요 정석이시네요 ㅎㅎ..\n",
      "맛 좋습니다 양 많습니다.\n",
      "우아 양이짐짜 어마무지하다 다먹고 배터질거같아서 타코야끼랑 반반씩넣어두니 이렇게팔아도될듯 너무깔끔 ㅠ 배부르고 너무 맛잇게 잘먹었습니당 치밥먹고간식으로타코야끼먹고 굳굳😋세트현명합니다 ㅠ\n",
      "역시 다양하게 먹는게 좋네요\n",
      "여자친구 선물로 보냈는데 정말맛있다고 좋아하네요 ㅎㅎㅎ 덕분에 저도 기분이 좋습니다청양마요인데 그렇게 안맵다네요 많이 파세요\n",
      "너무 맛있어요! 두명이서 먹으니 배불러요! 양도 많고 튀김도 눅눅하지 않고 바삭하게 배달와서 넘 조아용. 배달도 빠르고 맛집! 타코야끼 생각나면 또 시켜먹을게요 :)\n",
      "생각보다 양이 많아서 놀랐어요!!너무 맛있어요\n",
      "양도 많고 맛있어요~\n"
     ]
    }
   ],
   "source": [
    "find_word(['양'])"
   ]
  },
  {
   "cell_type": "code",
   "execution_count": 21,
   "id": "3a2d1474",
   "metadata": {},
   "outputs": [
    {
     "name": "stdout",
     "output_type": "stream",
     "text": [
      "맛있게 잘먹었어요^^곱배기다운 곱배기네요 ㅎㅎ다든 만족스런 식사였어요빨리 먹고싶은 맘에 차리고있는데 사진 찍어버렸네요 ㅎㅎ\n",
      "배달도 빠르고 시원하고 간따로 안해도 될정도로 맛있었습니다\n",
      "배달도빠르고  배달인데도 돈까스바삭해요  냉면도 맛있어요..\n",
      "맛있어요 배달도 빨리와서 좋아요\n",
      "배달도 빠르고맛있어요^^ 냉면에 무도 많이 들어있어서 좋으네요!\n",
      "엄청 맛있어요! 육수도 비빔장도 진짜 맛있어요. 배달이 아무리 빨리 와도 보통 면이 뭉쳐져서 잘 안 비벼지는데 여긴 면이 부들부들해서 잘 비벼지고, 그와중에 쫄깃해서 맛있게 잘 먹었습니당. 갈비만두도 쵝오!!!\n",
      "포장상태 굿 배달은 빠르고 맛있어요\n",
      "맛있어요!!배달도 빠릅니당\n",
      "배달도 빨리오구 고기 술불향이 많이나서 좋았습니다 자주 시켜 먹어야겠어요!\n",
      "배달도 빠르고 아주 잘 먹었습니다!!!!!\n",
      "배달빠르고 맛있게먹었어욤^^\n",
      "배달도 엄청 빠르고 냉면이랑 숯불구이 너무 맛있어요 다음에 또 시켜먹어야겠네요ㅎㅎ\n",
      "돈까스 소스 앞으로 이렇게 오나요 아니면 오늘만 이런건가요 원래 빨간색 소스가 더 맛있었는데 시판소스로 바뀌었네요ㅜㅜ\n",
      "배달도 빠르고 양도 많아요 맛있게 잘 먹었습니다\n",
      "만두는 열자마자 숯불향이 강하게 났습니다. 그리고 냉면 육수도 완전 시원하고 매콤해서 없던 식욕도 생기게 만들었고요, 빠른 배달 덕분에 살얼음이 동동 띄워진 상태로 살아 있는 면발을 흡입했습니다 ㅠㅠㅠ , 돈가스도 말모말모 다음에도 시켜 먹을 의향 있습니다!!!\n"
     ]
    }
   ],
   "source": [
    "find_word(['빨', '빠'])"
   ]
  },
  {
   "cell_type": "code",
   "execution_count": 25,
   "id": "e5751d4f",
   "metadata": {},
   "outputs": [
    {
     "name": "stdout",
     "output_type": "stream",
     "text": [
      "약속시간 20분초과해서 오셨네요..리뷰이벤트 하면 늦어도되는건가요?\n",
      "어제 점심에 시켜 먹었는데, 리뷰가 늦었네요 ㅠ.ㅠ~~면도 쫄깃하고 양념도 독특하게 맛있네요.소스 직접 만드시나봐요!!보통 냉면집에서 맛볼 수 없는 맛이었습니다.열무랑 배가 아삭아삭 씹히는데 여름철별미에요.\n",
      "도착알림은 왔는데  초인종이 안울려서 나가보니옆집 문앞에 음식이 있었어요리뷰콜라 부탁드렸는데 쿨피스가 왔네요음식은 다 맛있었어요 잘먹었습니다\n",
      "처음 먹어 보는데 너무 맛있어요!보자마자 먹는데 리뷰 생각나서 올려요!!!잘먹겠습니다\n",
      "리뷰이벤트랑 별개로 진짜 맛있어요 ! 추천합니다\n",
      "냉면 육수도 칼칼하니 시원하고 좋았어요ㅎㅎ고기도 양념이 달달해서 냉면과 궁합이 잘 맞는거 같아요!! 리뷰이벤트로 주신 갈비만두도 아주 맛있었어요 잘 먹었습니다😊😊\n",
      "리뷰가 늦어졌네요역시나 맛있습니다.\n",
      "사장님 일단 별은 다섯개 드립니다.리뷰 이벤트를 했으니..하지만..음식 픽업후 30분 걸린다면 2중 3중 배달이겠죠?! 냉면이.. 거짓말 좀 보태서 우동 면발로 변해 있었습니다.정말 먹을수 없을만큼 불어 있네요.. 돈까스냉면 곱빼기 하나랑 국밥 냉면 세트에 면사리 추가 했는데.. 보통 면사리는 따로 보내주시지 않나요? 한번에 다 넣어놔서 같이 퉁퉁 잘 불어 있었네요.. 냉면 맛없게 먹은적은 처음 입니다.ㅠㅠ그래도 같이 시킨 국밥은 식어도 맛있었네요..수고하세요..\n",
      "면이 좀 불어서 왔긴했는데 맛있어요 매콤하니 리뷰이벤트로 주신 만두도 엄청 맛있습니당!\n",
      "처음 시켜봤는데 너무 맛있게 잘 먹었어요~~~ 리뷰 이벤트 갈비만두도 너무 맛있네요 !! 자주 시켜먹을거 같네요\n",
      "저번에 맛있게 먹어서 다시 재주문해서 리뷰 남겨요! ㅎㅎ\n",
      "냉면 정말 맛있어요!! 여태 먹어본 냉면들과는 정말 다른 느낌입니다 진짜 맛나요 ㅎㅎ리뷰 서비스로 받는 만두도 서비스라고 생각도 못할정도로 정말 맛있습니다!! 덕분에 즐거운 식사가 됐어요 감사합니다\n",
      "처음 먹어보는데 정말 너무너무 맛있어요ㅜㅜ!정말 이렇게 맛있는 냉면은 처음 먹어보는 것 같네요... 고기랑 먹어도 맛있고 그냥 먹어도 충격적으로 맛있어요!!!!!!! 리뷰 쓰는 조건으로 주시는 만두도 진짜 맛났구 ... 단골 예약하고 싶습니다!!!😽🤭\n",
      "3개월차 유튜버이지만 진짜 리얼하게 리뷰해봤습니다! 개인적으로 물냉면에 양념 안 들어간 걸 좋아해서 양념 들어간 게 아쉬웠고 회비냉엔 회가 조금 적어서 아쉬웠어요! 근데 진짜 맛있어요 특히 회비냉ㅠㅠ 원래 물냉면파인데 비냉이 사기네요ㅎㅎㅎ 그리로 리뷰이벤트로 받은 갈비만두 속이 꽉 차고 쫀득쫀득하니 맛있었습니다ㅎㅎㅎ 코시국에 많이 지치고 힘드실 수도 있지만 조금만 더 힘내시고 흥하시길 바랄게요♡\n",
      "오랜만에 시켜먹었는데 역시나 맛있었어요! 리뷰가 뒤늦게 생각나서 늦게 찍었는데 맛있게 잘먹었습니다\n"
     ]
    }
   ],
   "source": [
    "find_word(['리뷰'])"
   ]
  },
  {
   "cell_type": "code",
   "execution_count": null,
   "id": "9b2d7cd1",
   "metadata": {},
   "outputs": [],
   "source": []
  }
 ],
 "metadata": {
  "kernelspec": {
   "display_name": "Python 3 (ipykernel)",
   "language": "python",
   "name": "python3"
  },
  "language_info": {
   "codemirror_mode": {
    "name": "ipython",
    "version": 3
   },
   "file_extension": ".py",
   "mimetype": "text/x-python",
   "name": "python",
   "nbconvert_exporter": "python",
   "pygments_lexer": "ipython3",
   "version": "3.9.7"
  }
 },
 "nbformat": 4,
 "nbformat_minor": 5
}
