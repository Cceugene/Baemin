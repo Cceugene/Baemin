{
 "cells": [
  {
   "cell_type": "code",
   "execution_count": 1,
   "id": "95a9f8f7",
   "metadata": {},
   "outputs": [],
   "source": [
    "import pandas as pd\n",
    "import pickle as pkl\n",
    "import re\n",
    "from sklearn.model_selection import train_test_split"
   ]
  },
  {
   "cell_type": "markdown",
   "id": "7e8a1511",
   "metadata": {},
   "source": [
    "# 모델 구축"
   ]
  },
  {
   "cell_type": "code",
   "execution_count": 2,
   "id": "a24a1879",
   "metadata": {},
   "outputs": [],
   "source": [
    "from konlpy.tag import Okt\n",
    "\n",
    "okt = Okt()"
   ]
  },
  {
   "cell_type": "code",
   "execution_count": 3,
   "id": "4be8f9a6",
   "metadata": {},
   "outputs": [],
   "source": [
    "import pandas as pd\n",
    "import numpy as np\n",
    "import warnings\n",
    "warnings.filterwarnings(action='ignore')"
   ]
  },
  {
   "cell_type": "markdown",
   "id": "0dd14e2d",
   "metadata": {},
   "source": [
    "# 1. 데이터 준비"
   ]
  },
  {
   "cell_type": "code",
   "execution_count": 4,
   "id": "0d8ccc63",
   "metadata": {},
   "outputs": [
    {
     "data": {
      "text/html": [
       "<div>\n",
       "<style scoped>\n",
       "    .dataframe tbody tr th:only-of-type {\n",
       "        vertical-align: middle;\n",
       "    }\n",
       "\n",
       "    .dataframe tbody tr th {\n",
       "        vertical-align: top;\n",
       "    }\n",
       "\n",
       "    .dataframe thead th {\n",
       "        text-align: right;\n",
       "    }\n",
       "</style>\n",
       "<table border=\"1\" class=\"dataframe\">\n",
       "  <thead>\n",
       "    <tr style=\"text-align: right;\">\n",
       "      <th></th>\n",
       "      <th>Rating</th>\n",
       "      <th>Review</th>\n",
       "    </tr>\n",
       "  </thead>\n",
       "  <tbody>\n",
       "    <tr>\n",
       "      <th>0</th>\n",
       "      <td>1</td>\n",
       "      <td>숙성 돼지고기 전문점입니다. 건물 모양 때문에 매장 모양도 좀 특이하지만 쾌적한 편...</td>\n",
       "    </tr>\n",
       "    <tr>\n",
       "      <th>1</th>\n",
       "      <td>1</td>\n",
       "      <td>고기가 정말 맛있었어요! 육즙이 가득 있어서 너무 좋았아요 일하시는 분들 너무 친절...</td>\n",
       "    </tr>\n",
       "    <tr>\n",
       "      <th>2</th>\n",
       "      <td>1</td>\n",
       "      <td>잡내 없고 깔끔, 담백한 맛의 순댓국이 순댓국을 안 좋아하는 사람들에게도 술술 넘어...</td>\n",
       "    </tr>\n",
       "    <tr>\n",
       "      <th>3</th>\n",
       "      <td>1</td>\n",
       "      <td>고기 양이 푸짐해서 특 순대국밥을 시킨 기분이 듭니다 맛도 좋습니다 다만 양념장이 ...</td>\n",
       "    </tr>\n",
       "    <tr>\n",
       "      <th>4</th>\n",
       "      <td>1</td>\n",
       "      <td>순댓국 자체는 제가 먹어본 순대국밥집 중에서 Top5 안에는 들어요. 그러나 밥 양...</td>\n",
       "    </tr>\n",
       "  </tbody>\n",
       "</table>\n",
       "</div>"
      ],
      "text/plain": [
       "   Rating                                             Review\n",
       "0       1  숙성 돼지고기 전문점입니다. 건물 모양 때문에 매장 모양도 좀 특이하지만 쾌적한 편...\n",
       "1       1  고기가 정말 맛있었어요! 육즙이 가득 있어서 너무 좋았아요 일하시는 분들 너무 친절...\n",
       "2       1  잡내 없고 깔끔, 담백한 맛의 순댓국이 순댓국을 안 좋아하는 사람들에게도 술술 넘어...\n",
       "3       1  고기 양이 푸짐해서 특 순대국밥을 시킨 기분이 듭니다 맛도 좋습니다 다만 양념장이 ...\n",
       "4       1  순댓국 자체는 제가 먹어본 순대국밥집 중에서 Top5 안에는 들어요. 그러나 밥 양..."
      ]
     },
     "execution_count": 4,
     "metadata": {},
     "output_type": "execute_result"
    }
   ],
   "source": [
    "rating_data = pd.read_csv('./dataformodeling/kr3.tsv', encoding='utf8', sep='\\t', engine='python')\n",
    "rating_data.head()"
   ]
  },
  {
   "cell_type": "code",
   "execution_count": 5,
   "id": "b2eb4739",
   "metadata": {},
   "outputs": [
    {
     "name": "stdout",
     "output_type": "stream",
     "text": [
      "<class 'pandas.core.frame.DataFrame'>\n",
      "RangeIndex: 641762 entries, 0 to 641761\n",
      "Data columns (total 2 columns):\n",
      " #   Column  Non-Null Count   Dtype \n",
      "---  ------  --------------   ----- \n",
      " 0   Rating  641762 non-null  int64 \n",
      " 1   Review  641762 non-null  object\n",
      "dtypes: int64(1), object(1)\n",
      "memory usage: 9.8+ MB\n"
     ]
    }
   ],
   "source": [
    "rating_data.info()"
   ]
  },
  {
   "cell_type": "code",
   "execution_count": 6,
   "id": "06c3b763",
   "metadata": {},
   "outputs": [
    {
     "data": {
      "text/plain": [
       "1    388111\n",
       "2    182741\n",
       "0     70910\n",
       "Name: Rating, dtype: int64"
      ]
     },
     "execution_count": 6,
     "metadata": {},
     "output_type": "execute_result"
    }
   ],
   "source": [
    "rating_data.Rating.value_counts()"
   ]
  },
  {
   "cell_type": "code",
   "execution_count": 7,
   "id": "78389c4f",
   "metadata": {},
   "outputs": [],
   "source": [
    "rating_df = pd.DataFrame()\n",
    "\n",
    "rating_df = rating_df.append(rating_data[rating_data['Rating'] == 1])\n",
    "rating_df = rating_df.append(rating_data[rating_data['Rating'] == 0])\n",
    "\n",
    "rating_df.columns = ['label', 'document']"
   ]
  },
  {
   "cell_type": "code",
   "execution_count": 8,
   "id": "f27a4ab8",
   "metadata": {},
   "outputs": [
    {
     "data": {
      "text/plain": [
       "label                 1\n",
       "document    또 가고 싶다 맛있어\n",
       "Name: 31, dtype: object"
      ]
     },
     "execution_count": 8,
     "metadata": {},
     "output_type": "execute_result"
    }
   ],
   "source": [
    "rating_df[rating_df['label']==1].iloc[23]"
   ]
  },
  {
   "cell_type": "code",
   "execution_count": 9,
   "id": "4bf5ea7c",
   "metadata": {
    "scrolled": true
   },
   "outputs": [
    {
     "data": {
      "text/html": [
       "<div>\n",
       "<style scoped>\n",
       "    .dataframe tbody tr th:only-of-type {\n",
       "        vertical-align: middle;\n",
       "    }\n",
       "\n",
       "    .dataframe tbody tr th {\n",
       "        vertical-align: top;\n",
       "    }\n",
       "\n",
       "    .dataframe thead th {\n",
       "        text-align: right;\n",
       "    }\n",
       "</style>\n",
       "<table border=\"1\" class=\"dataframe\">\n",
       "  <thead>\n",
       "    <tr style=\"text-align: right;\">\n",
       "      <th></th>\n",
       "      <th>label</th>\n",
       "      <th>document</th>\n",
       "    </tr>\n",
       "  </thead>\n",
       "  <tbody>\n",
       "    <tr>\n",
       "      <th>0</th>\n",
       "      <td>1</td>\n",
       "      <td>숙성 돼지고기 전문점입니다  건물 모양 때문에 매장 모양도 좀 특이하지만 쾌적한 편...</td>\n",
       "    </tr>\n",
       "    <tr>\n",
       "      <th>1</th>\n",
       "      <td>1</td>\n",
       "      <td>고기가 정말 맛있었어요  육즙이 가득 있어서 너무 좋았아요 일하시는 분들 너무 친절...</td>\n",
       "    </tr>\n",
       "    <tr>\n",
       "      <th>2</th>\n",
       "      <td>1</td>\n",
       "      <td>잡내 없고 깔끔  담백한 맛의 순댓국이 순댓국을 안 좋아하는 사람들에게도 술술 넘어...</td>\n",
       "    </tr>\n",
       "    <tr>\n",
       "      <th>3</th>\n",
       "      <td>1</td>\n",
       "      <td>고기 양이 푸짐해서 특 순대국밥을 시킨 기분이 듭니다 맛도 좋습니다 다만 양념장이 ...</td>\n",
       "    </tr>\n",
       "    <tr>\n",
       "      <th>4</th>\n",
       "      <td>1</td>\n",
       "      <td>순댓국 자체는 제가 먹어본 순대국밥집 중에서   안에는 들어요  그러나 밥 양이 적...</td>\n",
       "    </tr>\n",
       "  </tbody>\n",
       "</table>\n",
       "</div>"
      ],
      "text/plain": [
       "   label                                           document\n",
       "0      1  숙성 돼지고기 전문점입니다  건물 모양 때문에 매장 모양도 좀 특이하지만 쾌적한 편...\n",
       "1      1  고기가 정말 맛있었어요  육즙이 가득 있어서 너무 좋았아요 일하시는 분들 너무 친절...\n",
       "2      1  잡내 없고 깔끔  담백한 맛의 순댓국이 순댓국을 안 좋아하는 사람들에게도 술술 넘어...\n",
       "3      1  고기 양이 푸짐해서 특 순대국밥을 시킨 기분이 듭니다 맛도 좋습니다 다만 양념장이 ...\n",
       "4      1  순댓국 자체는 제가 먹어본 순대국밥집 중에서   안에는 들어요  그러나 밥 양이 적..."
      ]
     },
     "execution_count": 9,
     "metadata": {},
     "output_type": "execute_result"
    }
   ],
   "source": [
    "import re\n",
    "\n",
    "rating_df['document'] = rating_df['document'].apply(lambda x: re.sub(r'[^ ㄱ-ㅣ가-힣]+', \" \", x))\n",
    "rating_df.head()"
   ]
  },
  {
   "cell_type": "code",
   "execution_count": 10,
   "id": "1b7d1479",
   "metadata": {},
   "outputs": [],
   "source": [
    "rating_df.reset_index(drop=True, inplace=True)"
   ]
  },
  {
   "cell_type": "code",
   "execution_count": 11,
   "id": "a4df8b8a",
   "metadata": {},
   "outputs": [
    {
     "data": {
      "text/html": [
       "<div>\n",
       "<style scoped>\n",
       "    .dataframe tbody tr th:only-of-type {\n",
       "        vertical-align: middle;\n",
       "    }\n",
       "\n",
       "    .dataframe tbody tr th {\n",
       "        vertical-align: top;\n",
       "    }\n",
       "\n",
       "    .dataframe thead th {\n",
       "        text-align: right;\n",
       "    }\n",
       "</style>\n",
       "<table border=\"1\" class=\"dataframe\">\n",
       "  <thead>\n",
       "    <tr style=\"text-align: right;\">\n",
       "      <th></th>\n",
       "      <th>label</th>\n",
       "      <th>document</th>\n",
       "    </tr>\n",
       "  </thead>\n",
       "  <tbody>\n",
       "    <tr>\n",
       "      <th>0</th>\n",
       "      <td>1</td>\n",
       "      <td>숙성 돼지고기 전문점입니다  건물 모양 때문에 매장 모양도 좀 특이하지만 쾌적한 편...</td>\n",
       "    </tr>\n",
       "    <tr>\n",
       "      <th>1</th>\n",
       "      <td>1</td>\n",
       "      <td>고기가 정말 맛있었어요  육즙이 가득 있어서 너무 좋았아요 일하시는 분들 너무 친절...</td>\n",
       "    </tr>\n",
       "    <tr>\n",
       "      <th>2</th>\n",
       "      <td>1</td>\n",
       "      <td>잡내 없고 깔끔  담백한 맛의 순댓국이 순댓국을 안 좋아하는 사람들에게도 술술 넘어...</td>\n",
       "    </tr>\n",
       "    <tr>\n",
       "      <th>3</th>\n",
       "      <td>1</td>\n",
       "      <td>고기 양이 푸짐해서 특 순대국밥을 시킨 기분이 듭니다 맛도 좋습니다 다만 양념장이 ...</td>\n",
       "    </tr>\n",
       "    <tr>\n",
       "      <th>4</th>\n",
       "      <td>1</td>\n",
       "      <td>순댓국 자체는 제가 먹어본 순대국밥집 중에서   안에는 들어요  그러나 밥 양이 적...</td>\n",
       "    </tr>\n",
       "    <tr>\n",
       "      <th>...</th>\n",
       "      <td>...</td>\n",
       "      <td>...</td>\n",
       "    </tr>\n",
       "    <tr>\n",
       "      <th>459016</th>\n",
       "      <td>0</td>\n",
       "      <td>평일 런치라 그런지 메뉴가 진짜 없네요 소고기 양도 적구  흑임자 아이스크림과 떡볶...</td>\n",
       "    </tr>\n",
       "    <tr>\n",
       "      <th>459017</th>\n",
       "      <td>0</td>\n",
       "      <td>맛은 미원 탄  콘셉트가 없는 불친절함 우리한테만 그러나 하고 여러 팀 봤는데 불친...</td>\n",
       "    </tr>\n",
       "    <tr>\n",
       "      <th>459018</th>\n",
       "      <td>0</td>\n",
       "      <td>꽤 자주 가는 편이고 맛은 정말 인정하지만 기본이 안 되어있는 곳 같음  영업시간은...</td>\n",
       "    </tr>\n",
       "    <tr>\n",
       "      <th>459019</th>\n",
       "      <td>0</td>\n",
       "      <td>배달 시켜 먹었고요  거리상  입니다  배민에서 시켰고 정확히  만에 배달이 왔...</td>\n",
       "    </tr>\n",
       "    <tr>\n",
       "      <th>459020</th>\n",
       "      <td>0</td>\n",
       "      <td>원래 글 안 쓰는데 이거는 정말 다른 분들 위해서 써야 할 것 같네요 방금 포장 주...</td>\n",
       "    </tr>\n",
       "  </tbody>\n",
       "</table>\n",
       "<p>459021 rows × 2 columns</p>\n",
       "</div>"
      ],
      "text/plain": [
       "        label                                           document\n",
       "0           1  숙성 돼지고기 전문점입니다  건물 모양 때문에 매장 모양도 좀 특이하지만 쾌적한 편...\n",
       "1           1  고기가 정말 맛있었어요  육즙이 가득 있어서 너무 좋았아요 일하시는 분들 너무 친절...\n",
       "2           1  잡내 없고 깔끔  담백한 맛의 순댓국이 순댓국을 안 좋아하는 사람들에게도 술술 넘어...\n",
       "3           1  고기 양이 푸짐해서 특 순대국밥을 시킨 기분이 듭니다 맛도 좋습니다 다만 양념장이 ...\n",
       "4           1  순댓국 자체는 제가 먹어본 순대국밥집 중에서   안에는 들어요  그러나 밥 양이 적...\n",
       "...       ...                                                ...\n",
       "459016      0  평일 런치라 그런지 메뉴가 진짜 없네요 소고기 양도 적구  흑임자 아이스크림과 떡볶...\n",
       "459017      0  맛은 미원 탄  콘셉트가 없는 불친절함 우리한테만 그러나 하고 여러 팀 봤는데 불친...\n",
       "459018      0  꽤 자주 가는 편이고 맛은 정말 인정하지만 기본이 안 되어있는 곳 같음  영업시간은...\n",
       "459019      0    배달 시켜 먹었고요  거리상  입니다  배민에서 시켰고 정확히  만에 배달이 왔...\n",
       "459020      0  원래 글 안 쓰는데 이거는 정말 다른 분들 위해서 써야 할 것 같네요 방금 포장 주...\n",
       "\n",
       "[459021 rows x 2 columns]"
      ]
     },
     "execution_count": 11,
     "metadata": {},
     "output_type": "execute_result"
    }
   ],
   "source": [
    "rating_df"
   ]
  },
  {
   "cell_type": "code",
   "execution_count": 55,
   "id": "d067c1fa",
   "metadata": {},
   "outputs": [],
   "source": [
    "idx = np.random.choice(459021, 459021, replace = False)\n",
    "\n",
    "#idx_tr = idx[:321315]\n",
    "#idx_te = idx[321315:]\n",
    "idx_tr = idx[:150000]\n",
    "idx_te = idx[150000:210000]"
   ]
  },
  {
   "cell_type": "code",
   "execution_count": 56,
   "id": "e616d6d4",
   "metadata": {},
   "outputs": [
    {
     "data": {
      "text/plain": [
       "1    126977\n",
       "0     23023\n",
       "Name: label, dtype: int64"
      ]
     },
     "execution_count": 56,
     "metadata": {},
     "output_type": "execute_result"
    }
   ],
   "source": [
    "rating_tr = rating_df.iloc[idx_tr]\n",
    "rating_te = rating_df.iloc[idx_te]\n",
    "\n",
    "rating_tr.label.value_counts()"
   ]
  },
  {
   "cell_type": "code",
   "execution_count": 57,
   "id": "a33f838e",
   "metadata": {},
   "outputs": [
    {
     "data": {
      "text/html": [
       "<div>\n",
       "<style scoped>\n",
       "    .dataframe tbody tr th:only-of-type {\n",
       "        vertical-align: middle;\n",
       "    }\n",
       "\n",
       "    .dataframe tbody tr th {\n",
       "        vertical-align: top;\n",
       "    }\n",
       "\n",
       "    .dataframe thead th {\n",
       "        text-align: right;\n",
       "    }\n",
       "</style>\n",
       "<table border=\"1\" class=\"dataframe\">\n",
       "  <thead>\n",
       "    <tr style=\"text-align: right;\">\n",
       "      <th></th>\n",
       "      <th>label</th>\n",
       "      <th>document</th>\n",
       "    </tr>\n",
       "  </thead>\n",
       "  <tbody>\n",
       "    <tr>\n",
       "      <th>410649</th>\n",
       "      <td>0</td>\n",
       "      <td>포장했는데 양도 작고 냄비 가져갔는데도 양이 정해져 있다며 불친절함 건더기가 너무 ...</td>\n",
       "    </tr>\n",
       "    <tr>\n",
       "      <th>422278</th>\n",
       "      <td>0</td>\n",
       "      <td>음식 남겨 보기 처음입니다  주차 열악  더운데 길 건너 걸어와야 하고 젓가락 놓기...</td>\n",
       "    </tr>\n",
       "    <tr>\n",
       "      <th>438665</th>\n",
       "      <td>0</td>\n",
       "      <td>망고 빙수의 지존이라 생각해서 만빙 시즌엔 자주 가는데 이번에 다녀와서 크게 실망했...</td>\n",
       "    </tr>\n",
       "    <tr>\n",
       "      <th>445729</th>\n",
       "      <td>0</td>\n",
       "      <td>체육반 제육인 줄 알았는데 수육이다 부드럽고 평범한 수육 똑같은 수육 냄새 안 나고...</td>\n",
       "    </tr>\n",
       "    <tr>\n",
       "      <th>425990</th>\n",
       "      <td>0</td>\n",
       "      <td>그냥 고사리 넣은 되직한 육개장이에요  한번 경험으로 만족입니다</td>\n",
       "    </tr>\n",
       "    <tr>\n",
       "      <th>...</th>\n",
       "      <td>...</td>\n",
       "      <td>...</td>\n",
       "    </tr>\n",
       "    <tr>\n",
       "      <th>444446</th>\n",
       "      <td>0</td>\n",
       "      <td>지난달쯤에 갔던 거 같은데  정말 친절하시므로 동네 주민들이라면 커피 한잔하러 가기...</td>\n",
       "    </tr>\n",
       "    <tr>\n",
       "      <th>445580</th>\n",
       "      <td>0</td>\n",
       "      <td>따로국밥</td>\n",
       "    </tr>\n",
       "    <tr>\n",
       "      <th>401318</th>\n",
       "      <td>0</td>\n",
       "      <td>별 하나도 아깝다 절대 가지 마세요 돈 아까워</td>\n",
       "    </tr>\n",
       "    <tr>\n",
       "      <th>417127</th>\n",
       "      <td>0</td>\n",
       "      <td>오픈 전부터 상당히 기대했는데  솔직히 기대 이하였습니다  서비스  품질 다 제하고...</td>\n",
       "    </tr>\n",
       "    <tr>\n",
       "      <th>448390</th>\n",
       "      <td>0</td>\n",
       "      <td>기노 시스코에서 수다 떨다가 너무나도 많은 시간을 보내서 자리를 옮겨야 했어요  멀...</td>\n",
       "    </tr>\n",
       "  </tbody>\n",
       "</table>\n",
       "<p>23023 rows × 2 columns</p>\n",
       "</div>"
      ],
      "text/plain": [
       "        label                                           document\n",
       "410649      0  포장했는데 양도 작고 냄비 가져갔는데도 양이 정해져 있다며 불친절함 건더기가 너무 ...\n",
       "422278      0  음식 남겨 보기 처음입니다  주차 열악  더운데 길 건너 걸어와야 하고 젓가락 놓기...\n",
       "438665      0  망고 빙수의 지존이라 생각해서 만빙 시즌엔 자주 가는데 이번에 다녀와서 크게 실망했...\n",
       "445729      0  체육반 제육인 줄 알았는데 수육이다 부드럽고 평범한 수육 똑같은 수육 냄새 안 나고...\n",
       "425990      0                그냥 고사리 넣은 되직한 육개장이에요  한번 경험으로 만족입니다\n",
       "...       ...                                                ...\n",
       "444446      0  지난달쯤에 갔던 거 같은데  정말 친절하시므로 동네 주민들이라면 커피 한잔하러 가기...\n",
       "445580      0                                               따로국밥\n",
       "401318      0                          별 하나도 아깝다 절대 가지 마세요 돈 아까워\n",
       "417127      0  오픈 전부터 상당히 기대했는데  솔직히 기대 이하였습니다  서비스  품질 다 제하고...\n",
       "448390      0  기노 시스코에서 수다 떨다가 너무나도 많은 시간을 보내서 자리를 옮겨야 했어요  멀...\n",
       "\n",
       "[23023 rows x 2 columns]"
      ]
     },
     "execution_count": 57,
     "metadata": {},
     "output_type": "execute_result"
    }
   ],
   "source": [
    "rating_tr[rating_tr['label']==0]"
   ]
  },
  {
   "cell_type": "markdown",
   "id": "e4eb1796",
   "metadata": {},
   "source": [
    "# 2. 피쳐 벡터화: TF-IDF"
   ]
  },
  {
   "cell_type": "code",
   "execution_count": 58,
   "id": "5c76697b",
   "metadata": {},
   "outputs": [],
   "source": [
    "from konlpy.tag import Okt\n",
    "\n",
    "okt = Okt()"
   ]
  },
  {
   "cell_type": "code",
   "execution_count": 59,
   "id": "9b729cc7",
   "metadata": {},
   "outputs": [],
   "source": [
    "def okt_tokenizer(text):\n",
    "    tokens = okt.morphs(text)\n",
    "    return tokens"
   ]
  },
  {
   "cell_type": "code",
   "execution_count": null,
   "id": "3acae465",
   "metadata": {},
   "outputs": [],
   "source": [
    "from sklearn.feature_extraction.text import TfidfVectorizer\n",
    "\n",
    "tfidf = TfidfVectorizer(tokenizer = okt_tokenizer, ngram_range=(1, 2), min_df=3, max_df=0.9)\n",
    "tfidf.fit(rating_tr['document'])\n",
    "rating_tr_tfidf = tfidf.transform(rating_tr['document'])"
   ]
  },
  {
   "cell_type": "code",
   "execution_count": null,
   "id": "589d9866",
   "metadata": {},
   "outputs": [],
   "source": [
    "from sklearn.linear_model import LogisticRegression\n",
    "\n",
    "SA_lr = LogisticRegression(random_state = 0)"
   ]
  },
  {
   "cell_type": "code",
   "execution_count": null,
   "id": "f02f3e6e",
   "metadata": {},
   "outputs": [],
   "source": [
    "SA_lr.fit(rating_tr_tfidf, rating_tr['label'])"
   ]
  },
  {
   "cell_type": "code",
   "execution_count": null,
   "id": "5b6f34c8",
   "metadata": {},
   "outputs": [],
   "source": [
    "from sklearn.model_selection import GridSearchCV\n",
    "\n",
    "params = {'C': [1, 3, 3.5, 4, 4.5, 5]}\n",
    "SA_lr_grid_cv = GridSearchCV(SA_lr, param_grid=params, cv=3, scoring='accuracy', verbose=1)"
   ]
  },
  {
   "cell_type": "code",
   "execution_count": null,
   "id": "76db2bfd",
   "metadata": {},
   "outputs": [],
   "source": [
    "SA_lr_grid_cv.fit(rating_tr_tfidf, rating_tr['label'])"
   ]
  },
  {
   "cell_type": "code",
   "execution_count": null,
   "id": "31eaeefe",
   "metadata": {},
   "outputs": [],
   "source": [
    "print(SA_lr_grid_cv.best_params_, round(SA_lr_grid_cv.best_score_, 4))"
   ]
  },
  {
   "cell_type": "code",
   "execution_count": null,
   "id": "92138597",
   "metadata": {},
   "outputs": [],
   "source": [
    "SA_lr_best = SA_lr_grid_cv.best_estimator_"
   ]
  },
  {
   "cell_type": "markdown",
   "id": "d191a3da",
   "metadata": {},
   "source": [
    "# 4. 분석모델 평가"
   ]
  },
  {
   "cell_type": "code",
   "execution_count": null,
   "id": "6ad1f042",
   "metadata": {},
   "outputs": [],
   "source": [
    "rating_te_tfidf = tfidf.transform(rating_te['document'])"
   ]
  },
  {
   "cell_type": "code",
   "execution_count": null,
   "id": "fdef0631",
   "metadata": {},
   "outputs": [],
   "source": [
    "test_predict = SA_lr_best.predict(rating_te_tfidf)"
   ]
  },
  {
   "cell_type": "code",
   "execution_count": null,
   "id": "78a8d060",
   "metadata": {},
   "outputs": [],
   "source": [
    "from sklearn.metrics import accuracy_score\n",
    "\n",
    "print('감성분석 정확도:', round(accuracy_score(rating_te['label'], test_predict), 3))"
   ]
  },
  {
   "cell_type": "code",
   "execution_count": 35,
   "id": "5bf08efc",
   "metadata": {},
   "outputs": [
    {
     "name": "stdout",
     "output_type": "stream",
     "text": [
      "감성분석할 문장입력 >> 별로예요\n"
     ]
    }
   ],
   "source": [
    "st = input('감성분석할 문장입력 >> ')"
   ]
  },
  {
   "cell_type": "code",
   "execution_count": 36,
   "id": "6b407100",
   "metadata": {},
   "outputs": [
    {
     "name": "stdout",
     "output_type": "stream",
     "text": [
      "['별로예요']\n",
      "['별로예요']\n"
     ]
    }
   ],
   "source": [
    "st = re.compile(r'[ㄱ-ㅣ가-힣]+').findall(st)\n",
    "print(st)\n",
    "st = [\" \".join(st)]\n",
    "print(st)"
   ]
  },
  {
   "cell_type": "code",
   "execution_count": 37,
   "id": "ff783808",
   "metadata": {},
   "outputs": [],
   "source": [
    "st_tfidf = tfidf.transform(st)\n",
    "\n",
    "st_predict = SA_lr_best.predict(st_tfidf)"
   ]
  },
  {
   "cell_type": "code",
   "execution_count": 38,
   "id": "5ad52786",
   "metadata": {},
   "outputs": [
    {
     "name": "stdout",
     "output_type": "stream",
     "text": [
      "['별로예요'] ->> 부정 감정\n"
     ]
    }
   ],
   "source": [
    "if (st_predict == 0):\n",
    "    print(st, \"->> 부정 감정\")\n",
    "else:\n",
    "    print(st, \"->> 긍정 감정\")"
   ]
  },
  {
   "cell_type": "markdown",
   "id": "cfad7d64",
   "metadata": {},
   "source": [
    "# 배민 리뷰 데이터로 감성분석"
   ]
  },
  {
   "cell_type": "code",
   "execution_count": 39,
   "id": "52f200b4",
   "metadata": {},
   "outputs": [],
   "source": [
    "with open('../conts_CH.pkl', 'rb') as f:\n",
    "    data = pkl.load(f)"
   ]
  },
  {
   "cell_type": "code",
   "execution_count": 40,
   "id": "aca2c026",
   "metadata": {},
   "outputs": [
    {
     "data": {
      "text/html": [
       "<div>\n",
       "<style scoped>\n",
       "    .dataframe tbody tr th:only-of-type {\n",
       "        vertical-align: middle;\n",
       "    }\n",
       "\n",
       "    .dataframe tbody tr th {\n",
       "        vertical-align: top;\n",
       "    }\n",
       "\n",
       "    .dataframe thead th {\n",
       "        text-align: right;\n",
       "    }\n",
       "</style>\n",
       "<table border=\"1\" class=\"dataframe\">\n",
       "  <thead>\n",
       "    <tr style=\"text-align: right;\">\n",
       "      <th></th>\n",
       "      <th>review</th>\n",
       "    </tr>\n",
       "  </thead>\n",
       "  <tbody>\n",
       "    <tr>\n",
       "      <th>0</th>\n",
       "      <td>너무너무 맛있어요! 새우튀김 잘먹겠습니다~</td>\n",
       "    </tr>\n",
       "    <tr>\n",
       "      <th>1</th>\n",
       "      <td>맛있게 잘먹었습니다.너무 배부르고 맛있게 먹었네요</td>\n",
       "    </tr>\n",
       "    <tr>\n",
       "      <th>2</th>\n",
       "      <td>맛있습니당</td>\n",
       "    </tr>\n",
       "    <tr>\n",
       "      <th>3</th>\n",
       "      <td>감사합니다 맛있게 잘먹었어요 포장이 깔끔 해서 좋아요ㅎ</td>\n",
       "    </tr>\n",
       "    <tr>\n",
       "      <th>4</th>\n",
       "      <td>맛있게 잘 먹었습니다</td>\n",
       "    </tr>\n",
       "    <tr>\n",
       "      <th>...</th>\n",
       "      <td>...</td>\n",
       "    </tr>\n",
       "    <tr>\n",
       "      <th>119</th>\n",
       "      <td>맛있었어용 !</td>\n",
       "    </tr>\n",
       "    <tr>\n",
       "      <th>120</th>\n",
       "      <td>맛있어요~~</td>\n",
       "    </tr>\n",
       "    <tr>\n",
       "      <th>121</th>\n",
       "      <td>맛있게 잘 먹었습니다 근데 좀 달아요</td>\n",
       "    </tr>\n",
       "    <tr>\n",
       "      <th>122</th>\n",
       "      <td>맛있ㅇ어요</td>\n",
       "    </tr>\n",
       "    <tr>\n",
       "      <th>123</th>\n",
       "      <td>맛있게 잘 먹었습니다!!</td>\n",
       "    </tr>\n",
       "  </tbody>\n",
       "</table>\n",
       "<p>124 rows × 1 columns</p>\n",
       "</div>"
      ],
      "text/plain": [
       "                             review\n",
       "0           너무너무 맛있어요! 새우튀김 잘먹겠습니다~\n",
       "1       맛있게 잘먹었습니다.너무 배부르고 맛있게 먹었네요\n",
       "2                             맛있습니당\n",
       "3    감사합니다 맛있게 잘먹었어요 포장이 깔끔 해서 좋아요ㅎ\n",
       "4                       맛있게 잘 먹었습니다\n",
       "..                              ...\n",
       "119                         맛있었어용 !\n",
       "120                          맛있어요~~\n",
       "121            맛있게 잘 먹었습니다 근데 좀 달아요\n",
       "122                           맛있ㅇ어요\n",
       "123                   맛있게 잘 먹었습니다!!\n",
       "\n",
       "[124 rows x 1 columns]"
      ]
     },
     "execution_count": 40,
     "metadata": {},
     "output_type": "execute_result"
    }
   ],
   "source": [
    "df = pd.DataFrame(data, columns=['review'])\n",
    "df"
   ]
  },
  {
   "cell_type": "code",
   "execution_count": 41,
   "id": "4f49268f",
   "metadata": {},
   "outputs": [
    {
     "data": {
      "text/html": [
       "<div>\n",
       "<style scoped>\n",
       "    .dataframe tbody tr th:only-of-type {\n",
       "        vertical-align: middle;\n",
       "    }\n",
       "\n",
       "    .dataframe tbody tr th {\n",
       "        vertical-align: top;\n",
       "    }\n",
       "\n",
       "    .dataframe thead th {\n",
       "        text-align: right;\n",
       "    }\n",
       "</style>\n",
       "<table border=\"1\" class=\"dataframe\">\n",
       "  <thead>\n",
       "    <tr style=\"text-align: right;\">\n",
       "      <th></th>\n",
       "      <th>review</th>\n",
       "    </tr>\n",
       "  </thead>\n",
       "  <tbody>\n",
       "    <tr>\n",
       "      <th>0</th>\n",
       "      <td>너무너무 맛있어요  새우튀김 잘먹겠습니다</td>\n",
       "    </tr>\n",
       "    <tr>\n",
       "      <th>1</th>\n",
       "      <td>맛있게 잘먹었습니다 너무 배부르고 맛있게 먹었네요</td>\n",
       "    </tr>\n",
       "    <tr>\n",
       "      <th>2</th>\n",
       "      <td>맛있습니당</td>\n",
       "    </tr>\n",
       "    <tr>\n",
       "      <th>3</th>\n",
       "      <td>감사합니다 맛있게 잘먹었어요 포장이 깔끔 해서 좋아요ㅎ</td>\n",
       "    </tr>\n",
       "    <tr>\n",
       "      <th>4</th>\n",
       "      <td>맛있게 잘 먹었습니다</td>\n",
       "    </tr>\n",
       "  </tbody>\n",
       "</table>\n",
       "</div>"
      ],
      "text/plain": [
       "                           review\n",
       "0         너무너무 맛있어요  새우튀김 잘먹겠습니다 \n",
       "1     맛있게 잘먹었습니다 너무 배부르고 맛있게 먹었네요\n",
       "2                           맛있습니당\n",
       "3  감사합니다 맛있게 잘먹었어요 포장이 깔끔 해서 좋아요ㅎ\n",
       "4                     맛있게 잘 먹었습니다"
      ]
     },
     "execution_count": 41,
     "metadata": {},
     "output_type": "execute_result"
    }
   ],
   "source": [
    "df['review'] = df['review'].apply(lambda x: re.sub(r'[^ ㄱ-ㅣ가-힣]+', \" \", x))\n",
    "\n",
    "df.head()"
   ]
  },
  {
   "cell_type": "markdown",
   "id": "b685b9f2",
   "metadata": {},
   "source": [
    "## 2. 감성 분석 수행"
   ]
  },
  {
   "cell_type": "code",
   "execution_count": 42,
   "id": "62d5ec2c",
   "metadata": {},
   "outputs": [],
   "source": [
    "df_tfidf = tfidf.transform(df['review'])\n",
    "\n",
    "df_predict = SA_lr_best.predict(df_tfidf)\n",
    "\n",
    "df['label'] = df_predict"
   ]
  },
  {
   "cell_type": "code",
   "execution_count": 43,
   "id": "d1ee968a",
   "metadata": {},
   "outputs": [
    {
     "data": {
      "text/html": [
       "<div>\n",
       "<style scoped>\n",
       "    .dataframe tbody tr th:only-of-type {\n",
       "        vertical-align: middle;\n",
       "    }\n",
       "\n",
       "    .dataframe tbody tr th {\n",
       "        vertical-align: top;\n",
       "    }\n",
       "\n",
       "    .dataframe thead th {\n",
       "        text-align: right;\n",
       "    }\n",
       "</style>\n",
       "<table border=\"1\" class=\"dataframe\">\n",
       "  <thead>\n",
       "    <tr style=\"text-align: right;\">\n",
       "      <th></th>\n",
       "      <th>review</th>\n",
       "      <th>label</th>\n",
       "    </tr>\n",
       "  </thead>\n",
       "  <tbody>\n",
       "    <tr>\n",
       "      <th>0</th>\n",
       "      <td>너무너무 맛있어요  새우튀김 잘먹겠습니다</td>\n",
       "      <td>1</td>\n",
       "    </tr>\n",
       "    <tr>\n",
       "      <th>1</th>\n",
       "      <td>맛있게 잘먹었습니다 너무 배부르고 맛있게 먹었네요</td>\n",
       "      <td>1</td>\n",
       "    </tr>\n",
       "    <tr>\n",
       "      <th>2</th>\n",
       "      <td>맛있습니당</td>\n",
       "      <td>1</td>\n",
       "    </tr>\n",
       "    <tr>\n",
       "      <th>3</th>\n",
       "      <td>감사합니다 맛있게 잘먹었어요 포장이 깔끔 해서 좋아요ㅎ</td>\n",
       "      <td>1</td>\n",
       "    </tr>\n",
       "    <tr>\n",
       "      <th>4</th>\n",
       "      <td>맛있게 잘 먹었습니다</td>\n",
       "      <td>1</td>\n",
       "    </tr>\n",
       "  </tbody>\n",
       "</table>\n",
       "</div>"
      ],
      "text/plain": [
       "                           review  label\n",
       "0         너무너무 맛있어요  새우튀김 잘먹겠습니다       1\n",
       "1     맛있게 잘먹었습니다 너무 배부르고 맛있게 먹었네요      1\n",
       "2                           맛있습니당      1\n",
       "3  감사합니다 맛있게 잘먹었어요 포장이 깔끔 해서 좋아요ㅎ      1\n",
       "4                     맛있게 잘 먹었습니다      1"
      ]
     },
     "execution_count": 43,
     "metadata": {},
     "output_type": "execute_result"
    }
   ],
   "source": [
    "df.head()"
   ]
  },
  {
   "cell_type": "code",
   "execution_count": 44,
   "id": "897c3562",
   "metadata": {},
   "outputs": [
    {
     "name": "stdout",
     "output_type": "stream",
     "text": [
      "1    120\n",
      "0      4\n",
      "Name: label, dtype: int64\n"
     ]
    }
   ],
   "source": [
    "print(df['label'].value_counts())"
   ]
  },
  {
   "cell_type": "code",
   "execution_count": 45,
   "id": "cfb92535",
   "metadata": {},
   "outputs": [],
   "source": [
    "columns_name = ['review', 'label']\n",
    "neg_df = pd.DataFrame(columns=columns_name)\n",
    "pos_df = pd.DataFrame(columns=columns_name)\n",
    "\n",
    "for i, data in df.iterrows():\n",
    "    review = data['review']\n",
    "    label = data['label']\n",
    "    \n",
    "    if label == 0:\n",
    "        neg_df = neg_df.append(pd.DataFrame([[review, label]], columns=columns_name))\n",
    "    else:\n",
    "        pos_df = pos_df.append(pd.DataFrame([[review, label]], columns=columns_name))"
   ]
  },
  {
   "cell_type": "code",
   "execution_count": 46,
   "id": "cb48f109",
   "metadata": {},
   "outputs": [
    {
     "data": {
      "text/plain": [
       "(4, 120)"
      ]
     },
     "execution_count": 46,
     "metadata": {},
     "output_type": "execute_result"
    }
   ],
   "source": [
    "len(neg_df), len(pos_df)"
   ]
  },
  {
   "cell_type": "markdown",
   "id": "84482361",
   "metadata": {},
   "source": [
    "## 3. 감성분석 결과 시각화"
   ]
  },
  {
   "cell_type": "code",
   "execution_count": 47,
   "id": "127a5e0e",
   "metadata": {},
   "outputs": [
    {
     "name": "stdout",
     "output_type": "stream",
     "text": [
      "['새우 튀김', '', '', '포장', '', '배달 항상 주문', '치즈스틱', '치밥 치킨 주문 가격 부담', '', '', '양도 배달', '떡볶이 반도', '벌써 거의 사진 강츄', '냉동 거나 전날 닭고기 비엔나 전부', '뭔가 갈비 천왕', '', '', '', '로제 추천', '배달 추천', '존맛', '주문 준비 시간 취소 기분 배달 이제 치밥 여기 주문', '', '', '메뉴 주문 겟습', '배달', '조금', '매번 양념 소스 먹기 미니 떡볶이 처음 기대 하나 요즘 아빠 계속 치밥 달라', '살짝 계란찜 간이', '항상', '사장 콜라 서비스', '매번', '닭다리 살이 주문 닭다리 뻑뻑 닭꼬치', '배달', '', '두번째', '주문', '', '아유', '', '오뎅 국물 배달', '진짜 치밥 무조건 여기', '배달', '', '다음 치밥', '양도', '', '포장 존맛', '야채', '치밥 피카츄 돈까스 어랜 가끔 치밥', '정말 간도 양도 담번 번창', '음식 다음 주문', '', '', '어유', '양도 소스 가격 자주', '조금 배달 시간 번창', '안나 양념 정도 의향', '여기', '항상', '혼자 치킨 먹기 부담', '', '오늘 처음 다음', '처음 주문 굿굿', '', '치밥 계란찜', '일단 구성 음식 하나', '정말 지코 스타일 매콤', '매콤', '', '분전', '', '주문', '음식 양도 가격 대비 정말', '치밥 선생 여기 제일 가성', '혼자 먹기', '어제 잘못 뉼렀 용매 매콤 한지 닝닝 양도 번창 코로나', '치밥 다른 진짜', '', '매콤 양은 조금', '사장 진짜 장난 햇반 공기 과식 다음', '', '', '항상', '배달 항상 주문', '반찬 마땅치 제입 아이', '고기 국물 수돗물', '치밥 최고 사람 한번 절대 식사 먹기 최고 치즈 고기 추가 계란찜 얼마나 항상 다음 주문', '사진', '', '아쥬', '', '장난 아주', '진짜 야채', '포장 배송 먹기 쪼꼼 짱짱', '양도 아주', '우리 아이 음식 엄지 거기 다가 편지', '추천 숫불 양념 치밥', '휴일 가성 비도 배달 음식 음식', '', '사장 동생 단무지 약간 간맛 한번 나머지 진짜', '양도 주변 추천', '생각 콧물 진짜 배달 음식 가격 자주', '', '', '', '처음 진짜 리뷰 이벤트 주신 콜라 다만', '', '매콤 간장 주문', '매번', '미니 떡볶이 미니 번창', '', '국물 질질 난리', '가격 배달', '매번 전부', '', '', '', '어요', '']\n"
     ]
    }
   ],
   "source": [
    "POS_description = pos_df['review']\n",
    "\n",
    "POS_description_noun_tk = []\n",
    "POS_description_noun_join = []\n",
    "\n",
    "for d in POS_description:\n",
    "    POS_description_noun_tk.append(okt.nouns(d)) #형태소가 명사인 것만 추출\n",
    "for d in POS_description_noun_tk:\n",
    "    d2 = [w for w in d if len(w) > 1] #길이가 1인 토큰은 제외\n",
    "    POS_description_noun_join.append(\" \".join(d2)) # 토큰을 연결(join)하여 리스트 구성\n",
    "\n",
    "print(POS_description_noun_join)"
   ]
  },
  {
   "cell_type": "code",
   "execution_count": 48,
   "id": "c7067002",
   "metadata": {},
   "outputs": [
    {
     "name": "stdout",
     "output_type": "stream",
     "text": [
      "['치밥 사람 발전 댓글 계속 인장 개선 의향 내동 개선', '호로 달라 전화 호로', '냄새 배송', '안달']\n"
     ]
    }
   ],
   "source": [
    "NEG_description = neg_df['review']\n",
    "\n",
    "NEG_description_noun_tk = []\n",
    "NEG_description_noun_join = []\n",
    "\n",
    "for d in NEG_description:\n",
    "    NEG_description_noun_tk.append(okt.nouns(d)) #형태소가 명사인 것만 추출\n",
    "for d in NEG_description_noun_tk:\n",
    "    d2 = [w for w in d if len(w) > 1] #길이가 1인 토큰은 제외\n",
    "    NEG_description_noun_join.append(\" \".join(d2)) # 토큰을 연결(join)하여 리스트 구성\n",
    "\n",
    "print(NEG_description_noun_join)"
   ]
  },
  {
   "cell_type": "code",
   "execution_count": 49,
   "id": "8e597c44",
   "metadata": {},
   "outputs": [
    {
     "data": {
      "text/plain": [
       "[('주문', 8.10851317978345),\n",
       " ('배달', 7.9094901807371),\n",
       " ('치밥', 5.594305336508656),\n",
       " ('양도', 4.9221265682000634),\n",
       " ('항상', 4.63260674313422),\n",
       " ('진짜', 3.8111108632950352),\n",
       " ('매콤', 3.7098752433701607),\n",
       " ('음식', 3.59638571080184),\n",
       " ('추천', 3.1614627687029757),\n",
       " ('매번', 2.9891776353115844),\n",
       " ('다음', 2.9076790513558306),\n",
       " ('가격', 2.65763405141507),\n",
       " ('여기', 2.646451924968403),\n",
       " ('국물', 2.4975420559653774),\n",
       " ('포장', 2.424752191681087),\n",
       " ('먹기', 2.420966695876591),\n",
       " ('처음', 2.4110361597122347),\n",
       " ('조금', 2.271174499219941),\n",
       " ('계란찜', 2.183677833968312),\n",
       " ('번창', 2.084478805413887),\n",
       " ('사진', 2.0),\n",
       " ('양념', 1.9780042461425875),\n",
       " ('정말', 1.9188855789335615),\n",
       " ('사장', 1.7993139075424691),\n",
       " ('야채', 1.7842286426363545),\n",
       " ('아이', 1.773413554729188),\n",
       " ('전부', 1.746534015146592),\n",
       " ('떡볶이', 1.7351371684844585),\n",
       " ('존맛', 1.7290807573084959),\n",
       " ('아주', 1.5009255882260408),\n",
       " ('콜라', 1.3718650670784909),\n",
       " ('혼자', 1.2790383263250238),\n",
       " ('장난', 1.263187785496737),\n",
       " ('미니', 1.2028525160234544),\n",
       " ('가성', 1.152199896530026),\n",
       " ('고기', 1.1381392507580583),\n",
       " ('하나', 1.1367582545334445),\n",
       " ('자주', 1.0857150514567402),\n",
       " ('한번', 1.0406005479382727),\n",
       " ('부담', 1.0381289677566592),\n",
       " ('치킨', 1.0381289677566592),\n",
       " ('시간', 1.0299606557015386),\n",
       " ('소스', 0.9126981927791267)]"
      ]
     },
     "execution_count": 49,
     "metadata": {},
     "output_type": "execute_result"
    }
   ],
   "source": [
    "POS_tfidf = TfidfVectorizer(tokenizer = okt_tokenizer, min_df=2 )\n",
    "POS_dtm = POS_tfidf.fit_transform(POS_description_noun_join)\n",
    "POS_vocab = dict()\n",
    "\n",
    "for idx, word in enumerate(POS_tfidf.get_feature_names()):\n",
    "    POS_vocab[word] = POS_dtm.getcol(idx).sum()\n",
    "\n",
    "POS_words = sorted(POS_vocab.items(), key=lambda x: x[1], reverse=True)\n",
    "POS_words"
   ]
  },
  {
   "cell_type": "code",
   "execution_count": 51,
   "id": "722edf2d",
   "metadata": {},
   "outputs": [
    {
     "data": {
      "text/plain": [
       "[('안달', 1.0),\n",
       " ('호로', 0.816496580927726),\n",
       " ('냄새', 0.7071067811865476),\n",
       " ('배송', 0.7071067811865476),\n",
       " ('개선', 0.5773502691896257),\n",
       " ('달라', 0.408248290463863),\n",
       " ('전화', 0.408248290463863),\n",
       " ('계속', 0.28867513459481287),\n",
       " ('내동', 0.28867513459481287),\n",
       " ('댓글', 0.28867513459481287),\n",
       " ('발전', 0.28867513459481287),\n",
       " ('사람', 0.28867513459481287),\n",
       " ('의향', 0.28867513459481287),\n",
       " ('인장', 0.28867513459481287),\n",
       " ('치밥', 0.28867513459481287)]"
      ]
     },
     "execution_count": 51,
     "metadata": {},
     "output_type": "execute_result"
    }
   ],
   "source": [
    "NEG_tfidf = TfidfVectorizer(tokenizer = okt_tokenizer, min_df=1 )\n",
    "NEG_dtm = NEG_tfidf.fit_transform(NEG_description_noun_join)\n",
    "NEG_vocab = dict()\n",
    "\n",
    "for idx, word in enumerate(NEG_tfidf.get_feature_names()):\n",
    "    NEG_vocab[word] = NEG_dtm.getcol(idx).sum()\n",
    "\n",
    "NEG_words = sorted(NEG_vocab.items(), key=lambda x: x[1], reverse=True)\n",
    "NEG_words"
   ]
  },
  {
   "cell_type": "code",
   "execution_count": 4,
   "id": "1180cf03",
   "metadata": {},
   "outputs": [],
   "source": [
    "import matplotlib\n",
    "import matplotlib.pyplot as plt\n",
    "import matplotlib.font_manager as fm\n",
    "\n",
    "fm.get_fontconfig_fonts()\n",
    "font_location = 'C:/Windows/Fonts/malgun.ttf'\n",
    "font_name = fm.FontProperties(fname=font_location).get_name()\n",
    "matplotlib.rc('font', family=font_name)\n",
    "\n",
    "max = 15"
   ]
  },
  {
   "cell_type": "code",
   "execution_count": 53,
   "id": "5855889f",
   "metadata": {
    "scrolled": true
   },
   "outputs": [
    {
     "data": {
      "image/png": "[encoded data removed]",
      "text/plain": [
       "<Figure size 432x288 with 1 Axes>"
      ]
     },
     "metadata": {
      "needs_background": "light"
     },
     "output_type": "display_data"
    }
   ],
   "source": [
    "plt.bar(range(max), [i[1] for i in POS_words[:max]], color=\"blue\")\n",
    "plt.title(\"긍정 리뷰의 단어 상위 %d개\" %max, fontsize=15)\n",
    "plt.xlabel(\"단어\", fontsize=12)\n",
    "plt.ylabel(\"TF-IDF의 합\", fontsize=12)\n",
    "plt.xticks(range(max), [i[0] for i in POS_words[:max]], rotation=70)\n",
    "\n",
    "plt.show()"
   ]
  },
  {
   "cell_type": "code",
   "execution_count": 54,
   "id": "f900a66f",
   "metadata": {},
   "outputs": [
    {
     "data": {
      "image/png": "[encoded data removed]",
      "text/plain": [
       "<Figure size 432x288 with 1 Axes>"
      ]
     },
     "metadata": {
      "needs_background": "light"
     },
     "output_type": "display_data"
    }
   ],
   "source": [
    "plt.bar(range(max), [i[1] for i in NEG_words[:max]], color=\"red\")\n",
    "plt.title(\"부정 리뷰의 단어 상위 %d개\" %max, fontsize=15)\n",
    "plt.xlabel(\"단어\", fontsize=12)\n",
    "plt.ylabel(\"TF-IDF의 합\", fontsize=12)\n",
    "plt.xticks(range(max), [i[0] for i in NEG_words[:max]], rotation=70)\n",
    "\n",
    "plt.show()"
   ]
  },
  {
   "cell_type": "code",
   "execution_count": 2,
   "id": "968b5585",
   "metadata": {},
   "outputs": [],
   "source": [
    "with open('NEG_words.pkl', 'rb') as f:\n",
    "    NEG_words_half = pkl.load(f)\n",
    "with open('POS_words.pkl', 'rb') as f:\n",
    "    POS_words_half = pkl.load(f)"
   ]
  },
  {
   "cell_type": "code",
   "execution_count": 5,
   "id": "bfa51ca7",
   "metadata": {
    "scrolled": true
   },
   "outputs": [
    {
     "data": {
      "image/png": "[encoded data removed]",
      "text/plain": [
       "<Figure size 432x288 with 1 Axes>"
      ]
     },
     "metadata": {
      "needs_background": "light"
     },
     "output_type": "display_data"
    }
   ],
   "source": [
    "plt.bar(range(max), [i[1] for i in POS_words_half[:max]], color=\"blue\")\n",
    "plt.title(\"긍정 리뷰의 단어 상위 %d개\" %max, fontsize=15)\n",
    "plt.xlabel(\"단어\", fontsize=12)\n",
    "plt.ylabel(\"TF-IDF의 합\", fontsize=12)\n",
    "plt.xticks(range(max), [i[0] for i in POS_words_half[:max]], rotation=70)\n",
    "\n",
    "plt.show()"
   ]
  },
  {
   "cell_type": "code",
   "execution_count": 6,
   "id": "ad4966e1",
   "metadata": {},
   "outputs": [
    {
     "data": {
      "image/png": "[encoded data removed]",
      "text/plain": [
       "<Figure size 432x288 with 1 Axes>"
      ]
     },
     "metadata": {
      "needs_background": "light"
     },
     "output_type": "display_data"
    }
   ],
   "source": [
    "plt.bar(range(max), [i[1] for i in NEG_words_half[:max]], color=\"red\")\n",
    "plt.title(\"부정 리뷰의 단어 상위 %d개\" %max, fontsize=15)\n",
    "plt.xlabel(\"단어\", fontsize=12)\n",
    "plt.ylabel(\"TF-IDF의 합\", fontsize=12)\n",
    "plt.xticks(range(max), [i[0] for i in NEG_words_half[:max]], rotation=70)\n",
    "\n",
    "plt.show()"
   ]
  },
  {
   "cell_type": "code",
   "execution_count": null,
   "id": "a0dcf691",
   "metadata": {},
   "outputs": [],
   "source": []
  }
 ],
 "metadata": {
  "kernelspec": {
   "display_name": "Python 3 (ipykernel)",
   "language": "python",
   "name": "python3"
  },
  "language_info": {
   "codemirror_mode": {
    "name": "ipython",
    "version": 3
   },
   "file_extension": ".py",
   "mimetype": "text/x-python",
   "name": "python",
   "nbconvert_exporter": "python",
   "pygments_lexer": "ipython3",
   "version": "3.9.7"
  }
 },
 "nbformat": 4,
 "nbformat_minor": 5
}
