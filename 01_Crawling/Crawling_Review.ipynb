{
 "cells": [
  {
   "cell_type": "code",
   "execution_count": 1,
   "id": "14b7b114",
   "metadata": {},
   "outputs": [],
   "source": [
    "from selenium import webdriver\n",
    "from selenium.webdriver.common.keys import Keys\n",
    "import time\n",
    "from bs4 import BeautifulSoup"
   ]
  },
  {
   "cell_type": "code",
   "execution_count": 13,
   "id": "96acaa33",
   "metadata": {},
   "outputs": [
    {
     "name": "stderr",
     "output_type": "stream",
     "text": [
      "C:\\Users\\Eugene\\AppData\\Local\\Temp\\ipykernel_2388\\4121831281.py:2: DeprecationWarning: executable_path has been deprecated, please pass in a Service object\n",
      "  driver = webdriver.Chrome(chrome_driver)\n",
      "C:\\Users\\Eugene\\AppData\\Local\\Temp\\ipykernel_2388\\4121831281.py:11: DeprecationWarning: find_element_by_name is deprecated. Please use find_element(by=By.NAME, value=name) instead\n",
      "  ID = driver.find_element_by_name('id')\n",
      "C:\\Users\\Eugene\\AppData\\Local\\Temp\\ipykernel_2388\\4121831281.py:12: DeprecationWarning: find_element_by_name is deprecated. Please use find_element(by=By.NAME, value=name) instead\n",
      "  PASS = driver.find_element_by_name('password')\n",
      "C:\\Users\\Eugene\\AppData\\Local\\Temp\\ipykernel_2388\\4121831281.py:16: DeprecationWarning: find_element_by_xpath is deprecated. Please use find_element(by=By.XPATH, value=xpath) instead\n",
      "  button = driver.find_element_by_xpath('//*[@class=\"Button__StyledButton-sc-394bsp-0 iqPqWd\"]')\n",
      "C:\\Users\\Eugene\\AppData\\Local\\Temp\\ipykernel_2388\\4121831281.py:26: DeprecationWarning: find_element_by_xpath is deprecated. Please use find_element(by=By.XPATH, value=xpath) instead\n",
      "  driver.find_element_by_xpath(f'//select/option[@value=\"{stores[2]}\"]').click()\n",
      "C:\\Users\\Eugene\\AppData\\Local\\Temp\\ipykernel_2388\\4121831281.py:31: DeprecationWarning: find_element_by_css_selector is deprecated. Please use find_element(by=By.CSS_SELECTOR, value=css_selector) instead\n",
      "  body = driver.find_element_by_css_selector('body')\n"
     ]
    },
    {
     "name": "stdout",
     "output_type": "stream",
     "text": [
      "종료\n"
     ]
    }
   ],
   "source": [
    "chrome_driver = './chromedriver.exe'\n",
    "driver = webdriver.Chrome(chrome_driver)\n",
    "login_url = 'https://ceo.baemin.com/web/login?returnUrl=https%3A%2F%2Fceo.baemin.com%2F'\n",
    "url = 'https://ceo.baemin.com/self-service/shops/13252677/reviews'\n",
    "max_try = 100 #스크롤 횟수\n",
    "\n",
    "driver.get(login_url)\n",
    "time.sleep(1)\n",
    "\n",
    "# Login\n",
    "ID = driver.find_element_by_name('id')\n",
    "PASS = driver.find_element_by_name('password')\n",
    " # id, password\n",
    "ID.send_keys('jsm65354851')\n",
    "PASS.send_keys('csm8574133')\n",
    "button = driver.find_element_by_xpath('//*[@class=\"Button__StyledButton-sc-394bsp-0 iqPqWd\"]')\n",
    "button.click()\n",
    "time.sleep(1)\n",
    "\n",
    "# 페이지 이동\n",
    "driver.get(url)\n",
    "time.sleep(2)\n",
    "\n",
    "# 가게 선택\n",
    "stores = ['13260990', '13643240', '13442351', '13708011']\n",
    "driver.find_element_by_xpath(f'//select/option[@value=\"{stores[2]}\"]').click()\n",
    "time.sleep(1)\n",
    "\n",
    "# 스크롤\n",
    "for _ in range(max_try):\n",
    "    body = driver.find_element_by_css_selector('body')\n",
    "    body.send_keys(Keys.PAGE_DOWN)\n",
    "    body.send_keys(Keys.PAGE_DOWN)\n",
    "    body.send_keys(Keys.PAGE_DOWN)\n",
    "    body.send_keys(Keys.PAGE_DOWN)\n",
    "    body.send_keys(Keys.PAGE_DOWN)\n",
    "    time.sleep(1)\n",
    "\n",
    "soup = BeautifulSoup(driver.page_source,'html.parser')\n",
    "    \n",
    "    # scrapping (사용자, 별점, 리뷰)\n",
    "nicks = soup.find_all('p', attrs={'class': \"nick\"})\n",
    "stars = soup.find_all('div', attrs={'class': \"rating-stars\"})\n",
    "contents = soup.find_all('p', attrs={'class': \"review-cont\"})\n",
    "\n",
    "\n",
    "print('종료')"
   ]
  },
  {
   "cell_type": "code",
   "execution_count": 14,
   "id": "fbf9491b",
   "metadata": {
    "scrolled": false
   },
   "outputs": [
    {
     "name": "stdout",
     "output_type": "stream",
     "text": [
      "146 146 124\n"
     ]
    }
   ],
   "source": [
    "nick = []\n",
    "star = []\n",
    "cont = []\n",
    "\n",
    "print(len(nicks), len(stars), len(contents))\n",
    "\n",
    "for n, s in zip(nicks, stars):\n",
    "    nick.append(n.text)\n",
    "    star.append(s.text)\n",
    "for c in contents:\n",
    "    cont.append(c.text)"
   ]
  },
  {
   "cell_type": "code",
   "execution_count": 6,
   "id": "2eb1fb48",
   "metadata": {
    "scrolled": true
   },
   "outputs": [
    {
     "name": "stdout",
     "output_type": "stream",
     "text": [
      "['김구라', '닉네임뭐하지', '빵빵덕', '하채', '꽃돼지', '붐붐', 'navy****', '시티헌터', 'kjy3672', '미미미', '김구라', '공주', 'mari****', '나홀로지배', '풍국', '너구리', 'anfl****', '밀크', '쿠우', '미식가', '찬굴찬굴', '쭈공주', '소라', 'suji****', '칰킨', 'lhs1003', '왈왈왈왈냥냥냥', '레킹볼', '마이떠', '셩셩셩', '풍국', '호갱', '너나해', '라비올리', '모래무지', '징징쓰', '두껍', '쭈누찌누', '풍국', '위드미서비', '민센조', '뚜찌빠찌', '쿠우', '알로항', '지지', 'kfkc****', '지오이닉스', '꼬꼬', '통키', '위드미서비', '오호라', 'Jsj', '지나니', '풍국', 'lhs1003', '족제비', '독수리같이날아', '상림리', '라비올리', 'gksqja0104', '진짜맛있음', '돕니', '배고파유우', '냠냠미', 'micr****', '풍국', '코코심', '다로롱', '맛있게해주세여', '동이아부지', '으니빵구', '맛있으면울어요', '조아', '델제', '돌돌이', '보드리', '배고프다', '그러게말야', '피콜로', '호옹', '음식맛없으면포토리뷰', 'Jsj', '송치호', '맛있으면짖는오소리', '풍국', '편한맘', 'ddon****', '화목련', '채날드덕', '밀크', '해피트리', '꼴로깡패', '배고파', '배고파', 'kfkc****', '골드로저', '염둥이', '배생파', '뽀사', '워녕2', 'soeunny', 'suji****', '쿄벼리', '태정태세비욘세', '풍국', '이뿌닝', '꽃돼지', '김밥맛있어', '마시쓰면애애애애앵ㅇ', '보리둥절', '이비긴에미', '겨울', '대봉이', '붐붐', '스크린접수', 'ㅎoㅎ', 'ㅇㅇㅇ', 'lhs1003', '감사합니다', 'ㅈㅇ', 'sw', '니크', 'hammmm', 'soeunny', '맛있는뀰', '치카치카', '쫑쫑', '으니빵구', 'ㅇㄹ', '깨식', '팔도사나이', 'gkg근', '지율사랑', '그리너리', '빌빌', '김성원', 'Jsj', '꽁냥꽁냥', '투리유', '주연', '신찐', '아고뉴', 'buburry042', '궈눈주', 'kfkc****', '김수르', '연수동불주먹', '핫바소스', 'yay9****', 'seju****', 'grhhh', '찌노', '베리벼리', '맛있으면울어요', '맛없으면우는애기', '지지', '마왕꿀돼지', 'kkkkkkkkk', '지지', 'sunny9797', '태야', '정화', '나의사랑', '큰행', 'klz', '이쁜배', 'smj1****', '니냐욜', '감사합니다', '딸기좋아', '연스', '배고파', '오드리', '손단비', '너나해', '주횽이', '8391', '신호없음', '다다', '태기맘', '서기서기', '띡부리비앗치', '효짱', '박영일', '뿌니', '오드리', '배달', '히릿', '나도먹고싶다', '주운', '쭈공주', '푸른', '해미닝', '꽁냥꽁냥', 'cabi2', '마리', 'dbzp****', '퍼플비니', '으니빵구', '배고파ㅜ', '정쌍수다남고', 'sw', '꽁냥꽁냥', '쩐의전쟁', '탄이', '조로', '민준맘', '코코몽', '하나한결', 'tlst****', '여기어때', '천사', '강경', 'dusw****', 'rebecca', '선택적입벌구', '연수동불주먹', '맛잘알몽선생', '쵸리', '민노래', 'lllllll', '양뱅', 'ㅎㅇ', '리츼준', '초원', '보드리', '안녕하세욥', '엽기여왕', '메니져', '녹색이념', 'jochulwoo', '하얀겨울', '살구주스', '핫바소스', '도순기', '혜영', 'pyo4802', '쩐의전쟁', 'HM', '퐝당', '호오옹이', '준치', '무챠', '제육게임', '냠냠', '순금이', 'Jsj', '하하', '애보', '지니', '체리', '냉냥냥', 'kiwook', '드앵', 'pinokiojin', '5258****', '녹색이념', '지우', '환장수', '배고파', '푸른소나무', '매너가사람을만든다', 'lem0****', '나는', 'jyjyjyjy', '아진맘', '쫑쫑', 'asd6366', '쾅서크', '윤양', '천생연분', '째우빠', 'kfkc****', '궈눈주', '코코팡', '꼬꼬', '용가리9175', '채은맘', '식식이', '호님', '123', 'tldmsaka', 'kEH', '효짱', '로멧', '미녀나뉴이스트', '빙그레', '나라국', '지지', '채은맘', '선갱이', '독수리같이날아', '채은맘', '맛집찾으러', 'Joker', '맨날배고파ㅠ', '딸기', '대마왕', '맛있으면우는오리', '웅이', '핫바소스', '으랏차차', 'park****', '서연', 'dbymddnjs', '구박', 'ㅇㅇㅇ', '민노래', '테스형', '롱샤', '사고조사', '뱀눈', '제육게임', '애플공주', '몽니몽몽', '푸른소나무', 'cdtg****', '몽헤르메스', '한화이글스', '광광우럭따', '연수동', '마싯자나ㅏ', '몽헤르메스', 'kfkc****', '편한맘', '주님', '원이랑', '키킬', 'dkfl****', '정국이배고팡', '빙그레', 'abc', '호날두호우하네', 'mmmi****', '금비', '아리아', '움하하', '수석', 'dbwjdguq11', '이뿌닝', '눈누난나', '호날두호우하네', '느린하늘', 'yuch****', 'Jsj', 'bbaa****', '고게맛집', '김성수', '뿡뿡빵ㅇ', '뿌꾸빠', '맘모링', '승근수인', '아영이와먹자', 'yh', '땅쿠미', 'mogi****', '쟁내문', '흠2', 'siai', '케미', '강경', '디디디', '민준맘', '삼겹살에소주먹는스님', '호방이', '기용짱', '잉기맨', 'cdtg****', '5멍3냥', '윤이', '똥현', '천년', '모찌모찌리', 'mabl****', '땅쿠미', '뿌꾸', '로저스', 'TheName', '미뇽', '어기', '장떡', '눈누난나', '눈누난나', 'bukd****', '오파리', '하루인생', '한궈난', '별엄', '미미미', '굿굿베리굿', '똥배싸매', '두껍', '요단강', 'Thor', '로저스', 'ysk9****', '보트랜드', '화잇쪼커', '독수리같이날아', '맛있게먹자', '편한맘', '유진', '천수', '롱샤', '배부르게먹으자', '흐앤맹', 'twins', '은성재니', '우여랑', '나도먹고싶다', 'ㅇㄴㄹ', '효짱', 'lem0****', '냠냠쩝', '빙그레', 'bukd****', '짱아엄마', 'Shin', '식식이', '이요나', '독수리같이날아', '시언한응가', '사고조사', 'ehgp****', '하진맘', '듀이', '때지맘', '야그냥먹어', 'hero****', '감자머리밍구', '뚱스', '하균신', '나라국', '아톰이', '로저스', '배고파', '넙치', 'kjm9****', '김주지', '카푸렐라', 'JY', '마싯자나ㅏ', '2순이', '광광우럭따', '지돌', '빠쓰', '편한맘', '야그냥먹어', '넙치', '호님', '안선영', '맛있으면울어요', '냠냠', '루루', '소땡', '고주맘', '국보급방댕이', 'ㅇㅇㅇ', '수탱', 'love****', '귀요밍', '이도', 'mabl****', '서연아빠', '갑숄이', '밤톨주먹', 'mini****', '다먹어', 'bukd****', '돼정공', '밀크', 'shar****', '로저스', '훅간다', '레빗', '맛있으면울어요', '배민이', 'rokm****', '문화동', 'ㅇㄹㅁㄴ', '솔직하게', '토실토실', '3대450', 'h848****', '마시쩡', 'junsu', '로저스', '독거중년', 'euns****', '정국이배고팡']\n"
     ]
    }
   ],
   "source": [
    "print(nick)"
   ]
  },
  {
   "cell_type": "markdown",
   "id": "051da874",
   "metadata": {},
   "source": [
    "## 파일로 저장하기"
   ]
  },
  {
   "cell_type": "code",
   "execution_count": 15,
   "id": "d438f762",
   "metadata": {},
   "outputs": [],
   "source": [
    "import pickle\n",
    "\n",
    "with open('conts_CH.pkl', 'wb') as f:\n",
    "    pickle.dump(cont, f)"
   ]
  },
  {
   "cell_type": "markdown",
   "id": "b5499ab2",
   "metadata": {},
   "source": [
    "# 데이터 탐색"
   ]
  },
  {
   "cell_type": "code",
   "execution_count": 8,
   "id": "ae15b56d",
   "metadata": {},
   "outputs": [],
   "source": [
    "import pandas as pd"
   ]
  },
  {
   "cell_type": "markdown",
   "id": "b27839a4",
   "metadata": {},
   "source": [
    "## 단골 손님"
   ]
  },
  {
   "cell_type": "code",
   "execution_count": 9,
   "id": "90c62b5a",
   "metadata": {},
   "outputs": [
    {
     "data": {
      "text/html": [
       "<div>\n",
       "<style scoped>\n",
       "    .dataframe tbody tr th:only-of-type {\n",
       "        vertical-align: middle;\n",
       "    }\n",
       "\n",
       "    .dataframe tbody tr th {\n",
       "        vertical-align: top;\n",
       "    }\n",
       "\n",
       "    .dataframe thead th {\n",
       "        text-align: right;\n",
       "    }\n",
       "</style>\n",
       "<table border=\"1\" class=\"dataframe\">\n",
       "  <thead>\n",
       "    <tr style=\"text-align: right;\">\n",
       "      <th></th>\n",
       "      <th>ID</th>\n",
       "      <th>Star</th>\n",
       "    </tr>\n",
       "  </thead>\n",
       "  <tbody>\n",
       "    <tr>\n",
       "      <th>0</th>\n",
       "      <td>김구라</td>\n",
       "      <td>5</td>\n",
       "    </tr>\n",
       "    <tr>\n",
       "      <th>1</th>\n",
       "      <td>닉네임뭐하지</td>\n",
       "      <td>5</td>\n",
       "    </tr>\n",
       "    <tr>\n",
       "      <th>2</th>\n",
       "      <td>빵빵덕</td>\n",
       "      <td>5</td>\n",
       "    </tr>\n",
       "    <tr>\n",
       "      <th>3</th>\n",
       "      <td>하채</td>\n",
       "      <td>5</td>\n",
       "    </tr>\n",
       "    <tr>\n",
       "      <th>4</th>\n",
       "      <td>꽃돼지</td>\n",
       "      <td>5</td>\n",
       "    </tr>\n",
       "    <tr>\n",
       "      <th>...</th>\n",
       "      <td>...</td>\n",
       "      <td>...</td>\n",
       "    </tr>\n",
       "    <tr>\n",
       "      <th>485</th>\n",
       "      <td>junsu</td>\n",
       "      <td>5</td>\n",
       "    </tr>\n",
       "    <tr>\n",
       "      <th>486</th>\n",
       "      <td>로저스</td>\n",
       "      <td>5</td>\n",
       "    </tr>\n",
       "    <tr>\n",
       "      <th>487</th>\n",
       "      <td>독거중년</td>\n",
       "      <td>4</td>\n",
       "    </tr>\n",
       "    <tr>\n",
       "      <th>488</th>\n",
       "      <td>euns****</td>\n",
       "      <td>5</td>\n",
       "    </tr>\n",
       "    <tr>\n",
       "      <th>489</th>\n",
       "      <td>정국이배고팡</td>\n",
       "      <td>5</td>\n",
       "    </tr>\n",
       "  </tbody>\n",
       "</table>\n",
       "<p>490 rows × 2 columns</p>\n",
       "</div>"
      ],
      "text/plain": [
       "           ID Star\n",
       "0         김구라    5\n",
       "1      닉네임뭐하지    5\n",
       "2         빵빵덕    5\n",
       "3          하채    5\n",
       "4         꽃돼지    5\n",
       "..        ...  ...\n",
       "485     junsu    5\n",
       "486       로저스    5\n",
       "487      독거중년    4\n",
       "488  euns****    5\n",
       "489    정국이배고팡    5\n",
       "\n",
       "[490 rows x 2 columns]"
      ]
     },
     "execution_count": 9,
     "metadata": {},
     "output_type": "execute_result"
    }
   ],
   "source": [
    "df = pd.DataFrame(zip(nick, star), columns=['ID', 'Star'])\n",
    "df"
   ]
  },
  {
   "cell_type": "code",
   "execution_count": 10,
   "id": "6eb9e95a",
   "metadata": {},
   "outputs": [],
   "source": [
    "dup = pd.DataFrame(df.groupby(['ID']).size())\n",
    "dg = list(dup[dup[0] != 1].index)"
   ]
  },
  {
   "cell_type": "code",
   "execution_count": 11,
   "id": "b2408e08",
   "metadata": {},
   "outputs": [
    {
     "name": "stdout",
     "output_type": "stream",
     "text": [
      "      ID Star\n",
      "51   Jsj    5\n",
      "81   Jsj    5\n",
      "136  Jsj    5\n",
      "246  Jsj    5\n",
      "344  Jsj    5\n",
      "           ID Star\n",
      "383  bukd****    5\n",
      "415  bukd****    5\n",
      "468  bukd****    5\n",
      "           ID Star\n",
      "316  cdtg****    5\n",
      "367  cdtg****    5\n",
      "           ID Star\n",
      "45   kfkc****    5\n",
      "94   kfkc****    5\n",
      "144  kfkc****    5\n",
      "272  kfkc****    5\n",
      "323  kfkc****    5\n",
      "           ID Star\n",
      "262  lem0****    5\n",
      "412  lem0****    5\n",
      "          ID Star\n",
      "25   lhs1003    5\n",
      "54   lhs1003    5\n",
      "117  lhs1003    5\n",
      "           ID Star\n",
      "373  mabl****    5\n",
      "462  mabl****    5\n",
      "          ID Star\n",
      "100  soeunny    5\n",
      "123  soeunny    5\n",
      "           ID Star\n",
      "23   suji****    5\n",
      "101  suji****    5\n",
      "     ID Star\n",
      "120  sw    5\n",
      "201  sw    5\n",
      "      ID Star\n",
      "116  ㅇㅇㅇ    5\n",
      "306  ㅇㅇㅇ    5\n",
      "457  ㅇㅇㅇ    5\n",
      "        ID Star\n",
      "118  감사합니다    5\n",
      "168  감사합니다    5\n",
      "     ID Star\n",
      "212  강경    5\n",
      "360  강경    5\n",
      "        ID Star\n",
      "319  광광우럭따    5\n",
      "443  광광우럭따    5\n",
      "      ID Star\n",
      "143  궈눈주    4\n",
      "273  궈눈주    4\n",
      "     ID Star\n",
      "0   김구라    5\n",
      "10  김구라    5\n",
      "     ID Star\n",
      "47   꼬꼬    2\n",
      "275  꼬꼬    5\n",
      "       ID Star\n",
      "137  꽁냥꽁냥    5\n",
      "193  꽁냥꽁냥    5\n",
      "202  꽁냥꽁냥    5\n",
      "      ID Star\n",
      "4    꽃돼지    5\n",
      "106  꽃돼지    5\n",
      "         ID Star\n",
      "188  나도먹고싶다    5\n",
      "409  나도먹고싶다    5\n",
      "      ID Star\n",
      "287  나라국    5\n",
      "432  나라국    5\n",
      "     ID Star\n",
      "244  냠냠    5\n",
      "452  냠냠    5\n",
      "      ID Star\n",
      "32   너나해    5\n",
      "174  너나해    5\n",
      "     ID Star\n",
      "436  넙치    5\n",
      "448  넙치    5\n",
      "       ID Star\n",
      "229  녹색이념    5\n",
      "256  녹색이념    5\n",
      "       ID Star\n",
      "340  눈누난나    5\n",
      "381  눈누난나    5\n",
      "382  눈누난나    5\n",
      "          ID Star\n",
      "56   독수리같이날아    5\n",
      "291  독수리같이날아    5\n",
      "398  독수리같이날아    5\n",
      "420  독수리같이날아    5\n",
      "     ID Star\n",
      "36   두껍    5\n",
      "391  두껍    5\n",
      "      ID Star\n",
      "354  땅쿠미    5\n",
      "374  땅쿠미    5\n",
      "      ID Star\n",
      "33  라비올리    5\n",
      "58  라비올리    5\n",
      "      ID Star\n",
      "376  로저스    5\n",
      "394  로저스    5\n",
      "434  로저스    5\n",
      "472  로저스    5\n",
      "486  로저스    5\n",
      "     ID Star\n",
      "309  롱샤    5\n",
      "403  롱샤    5\n",
      "        ID Star\n",
      "321  마싯자나ㅏ    5\n",
      "441  마싯자나ㅏ    5\n",
      "          ID Star\n",
      "71   맛있으면울어요    5\n",
      "153  맛있으면울어요    5\n",
      "451  맛있으면울어요    5\n",
      "475  맛있으면울어요    5\n",
      "        ID Star\n",
      "317  몽헤르메스    5\n",
      "322  몽헤르메스    5\n",
      "      ID Star\n",
      "9    미미미    5\n",
      "388  미미미    5\n",
      "      ID Star\n",
      "219  민노래    5\n",
      "307  민노래    5\n",
      "      ID Star\n",
      "206  민준맘    5\n",
      "362  민준맘    5\n",
      "     ID Star\n",
      "17   밀크    5\n",
      "89   밀크    5\n",
      "470  밀크    5\n",
      "      ID Star\n",
      "92   배고파    5\n",
      "93   배고파    5\n",
      "171  배고파    5\n",
      "259  배고파    5\n",
      "435  배고파    5\n",
      "      ID Star\n",
      "75   보드리    5\n",
      "225  보드리    5\n",
      "     ID Star\n",
      "5    붐붐    5\n",
      "113  붐붐    5\n",
      "      ID Star\n",
      "286  빙그레    5\n",
      "330  빙그레    5\n",
      "414  빙그레    3\n",
      "       ID Star\n",
      "310  사고조사    5\n",
      "422  사고조사    5\n",
      "      ID Star\n",
      "278  식식이    5\n",
      "418  식식이    5\n",
      "        ID Star\n",
      "427  야그냥먹어    5\n",
      "447  야그냥먹어    5\n",
      "         ID Star\n",
      "146  연수동불주먹    5\n",
      "216  연수동불주먹    5\n",
      "      ID Star\n",
      "172  오드리    5\n",
      "185  오드리    5\n",
      "       ID Star\n",
      "39  위드미서비    5\n",
      "49  위드미서비    5\n",
      "       ID Star\n",
      "70   으니빵구    5\n",
      "127  으니빵구    5\n",
      "198  으니빵구    5\n",
      "      ID Star\n",
      "105  이뿌닝    5\n",
      "339  이뿌닝    5\n",
      "         ID Star\n",
      "329  정국이배고팡    5\n",
      "489  정국이배고팡    5\n",
      "       ID Star\n",
      "243  제육게임    5\n",
      "312  제육게임    5\n",
      "     ID Star\n",
      "44   지지    5\n",
      "155  지지    5\n",
      "158  지지    5\n",
      "288  지지    5\n",
      "       ID Star\n",
      "203  쩐의전쟁    5\n",
      "237  쩐의전쟁    5\n",
      "     ID Star\n",
      "126  쫑쫑    5\n",
      "266  쫑쫑    5\n",
      "      ID Star\n",
      "21   쭈공주    5\n",
      "190  쭈공주    5\n",
      "      ID Star\n",
      "277  채은맘    5\n",
      "289  채은맘    5\n",
      "292  채은맘    5\n",
      "    ID Star\n",
      "18  쿠우    5\n",
      "42  쿠우    5\n",
      "      ID Star\n",
      "85   편한맘    5\n",
      "324  편한맘    3\n",
      "400  편한맘    5\n",
      "446  편한맘    5\n",
      "        ID Star\n",
      "260  푸른소나무    5\n",
      "315  푸른소나무    5\n",
      "     ID Star\n",
      "14   풍국    5\n",
      "30   풍국    5\n",
      "38   풍국    5\n",
      "53   풍국    5\n",
      "65   풍국    5\n",
      "84   풍국    5\n",
      "104  풍국    5\n",
      "       ID Star\n",
      "147  핫바소스    5\n",
      "233  핫바소스    5\n",
      "300  핫바소스    5\n",
      "          ID Star\n",
      "332  호날두호우하네    5\n",
      "341  호날두호우하네    5\n",
      "     ID Star\n",
      "279  호님    5\n",
      "449  호님    5\n",
      "     ID Star\n",
      "182  효짱    4\n",
      "283  효짱    5\n",
      "411  효짱    3\n"
     ]
    }
   ],
   "source": [
    "for i in dg:\n",
    "    print(df[df['ID'] == i])"
   ]
  },
  {
   "cell_type": "markdown",
   "id": "d7e76b41",
   "metadata": {},
   "source": [
    "## 리뷰"
   ]
  },
  {
   "cell_type": "code",
   "execution_count": 12,
   "id": "e34d0c44",
   "metadata": {},
   "outputs": [
    {
     "data": {
      "text/plain": [
       "['냉면먹고 충격받았습니다 정말 맛있어요엄청 단데 물리지 않는 단 맛 배달음식 정말 많이 시켜먹었는데 맛있어서 리뷰 쓰는건 처음이에요 정말 맛있습니다.',\n",
       " '맛있었습니다하지만 배달이16분에도착한다고하였는데25분에왔네요두곳을묶어서가져온건지...참아쉽네요',\n",
       " '배달 잘 도착했고요, 이번에 먹었을 때도 맛있었습니다!',\n",
       " '완전 맛있어요 국물 최고... 배달 시켜먹은 국밥 중에서 제일 맛있었어요!!! 앞으로 국밥은 여기서 먹어야겠어요 짱',\n",
       " '맛 정말 최고예요 !! 왠만하면 국밥 배달로 안시켜먹는데 여기는 진짜 찐맛집 인정합니다 👍🏻 충주에 소면이랑 밥같이 주는곳 없는걸로 아는데 대만족입니다 ㅎㅎ 정말 배부르게 잘먹었습니당 사장님 새해 복 많이 받으세용',\n",
       " '맛도없고 배달도 60분 띄워놓고 75분 걸려도 미안하단 소리도 없고 두번은 안시킬듯',\n",
       " '충주에서 배달로 시켜먹은 순대국밥 중에 가장 맛있었어요! 또 생각날맛이네염']"
      ]
     },
     "execution_count": 12,
     "metadata": {},
     "output_type": "execute_result"
    }
   ],
   "source": [
    "fasts = ['빨', '빠']\n",
    "slows = ['늦', '느']\n",
    "Fasters = []\n",
    "Slowers = []\n",
    "total = 0\n",
    "etc = []\n",
    "\n",
    "for i in cont:\n",
    "    if '배달' in i:\n",
    "        for f in fasts:\n",
    "            if f in i:\n",
    "                Fasters.append(i)\n",
    "        for s in slows:\n",
    "            if s in i:\n",
    "                Slowers.append(i)\n",
    "        if (i not in Slowers) and (i not in Fasters):\n",
    "            etc.append(i)\n",
    "        total += 1\n",
    "etc"
   ]
  },
  {
   "cell_type": "code",
   "execution_count": 18,
   "id": "e09b8a68",
   "metadata": {},
   "outputs": [
    {
     "data": {
      "text/plain": [
       "True"
      ]
     },
     "execution_count": 18,
     "metadata": {},
     "output_type": "execute_result"
    }
   ],
   "source": [
    "len(Fasters)+len(Slowers)+len(etc) == total"
   ]
  },
  {
   "cell_type": "markdown",
   "id": "bb39fff7",
   "metadata": {},
   "source": [
    "### 단어 검색"
   ]
  },
  {
   "cell_type": "code",
   "execution_count": 19,
   "id": "32f10898",
   "metadata": {},
   "outputs": [],
   "source": [
    "def find_word(words):\n",
    "    for i in cont:\n",
    "        for w in words:\n",
    "            if w in i:\n",
    "                print(i)"
   ]
  },
  {
   "cell_type": "code",
   "execution_count": 20,
   "id": "6df83b77",
   "metadata": {},
   "outputs": [
    {
     "name": "stdout",
     "output_type": "stream",
     "text": [
      "특제소스도 맛있구 냉면도 맛있고 다 맛있어요 또 시켜막을께요ㅠ\n",
      "돈까스 소스 너무 맛있어요 많이 달라했는데 하나 더주셔서 좋았습니다\n",
      "어제 점심에 시켜 먹었는데, 리뷰가 늦었네요 ㅠ.ㅠ~~면도 쫄깃하고 양념도 독특하게 맛있네요.소스 직접 만드시나봐요!!보통 냉면집에서 맛볼 수 없는 맛이었습니다.열무랑 배가 아삭아삭 씹히는데 여름철별미에요.\n",
      "맛있네요~!돈까스 바싹하고~♡ 소스가 특이하네요ㅎㅎ맛있어요^^\n",
      "국밥도 맛있었는데 냉면도 맛있네요! 돈까스 소스가 진짜 맛있습니다. 서비스로 주신 만두도 맛있고 시원하게 잘먹었네요.\n",
      "돈까스 소스 앞으로 이렇게 오나요 아니면 오늘만 이런건가요 원래 빨간색 소스가 더 맛있었는데 시판소스로 바뀌었네요ㅜㅜ\n"
     ]
    }
   ],
   "source": [
    "find_word(['소스'])"
   ]
  },
  {
   "cell_type": "code",
   "execution_count": 122,
   "id": "34fb3ba4",
   "metadata": {},
   "outputs": [
    {
     "name": "stdout",
     "output_type": "stream",
     "text": [
      "자알 먹었습니다! 양이 너무 많은거 같아요!!\n",
      "양도 많고 무엇보다 맛있습니다!\n",
      "양이 생각보다 정말 많네요! 둘이서 세끼 다 타코야끼로만 먹었어요ㅋㅋㅋ 맛있어요!🥰 청양마요는 맵찔이 입맛에 좀 맵더라구요!\n",
      "타코야끼 속도 너무 맛있고 양도 푸짐하고 좋았습니다! 서비스 타코야끼도 감사합니다! 다음에는 다른 맛도 먹어보고 싶네요\n",
      "맛, 양 다 좋았습니다. 리뷰이벤트로 보내주신 쿨피스도 기분이 좋았네요^^\n",
      "양도 푸짐하고 빨리 와서 너무 좋네요\n",
      "양 엄청많네요ㅋㅋ맛있습니다\n",
      "양많고 맛있게 잘먹었어요 ㅎ매콤한맛 추천\n",
      "양도 많구 맛있었어요~ 리뷰서비스까지 완벽ㅜㅜ 치밥 맛있어서 자꾸생각나욯ㅎㅎㅎ\n",
      "타코야끼 정말 맛있어요! 날치알마요 주먹밥도 양이 정말 많아서 배부르게 잘 먹었습니다!!\n",
      "양도 적당하고 맛있어요\n",
      "양도 낭낭하고 맛잇읍니다\n",
      "양 제가 먹었던 타코야끼중에 제일 많았어요ㅜㅜ 진짜 푸짐해요.ᐟ.ᐟ 맛있게먹었습니당🤍\n",
      "두번째 시켜먹는데 양도 많고 너무 맛있어요! 배달도 빨리 왔습니당!!\n",
      "맛잇고 양도 푸짐하네요 넘맛잇게 잘먹었습니다  담에 또 주문할께요\n",
      "오랜만에 먹어서 더 맛있었어요양도 많고 짱입니당👍\n",
      "진짜 양도 많고 맛있어요\n",
      "혼자먹으려고샀는데 양도 많고!! 매콤하게했더니 적당하게 매콤해서 좋았어요 ㅎㅎ 떡볶이도 너무맛있어서 정말 잘먹었습니다!!! 혼자먹기는 많아서 남겨두고 또 먹으려구요 ㅎㅎ\n",
      "양도 많고 너무 맛있어요~~\n",
      "타코야끼를 너무 사랑하는 1인입니다리뷰보고 기대가 컸는데..ㅠㅠ 눅눅하고 살짝덜익은것같은 느낌적인느낌이..ㅠㅠ포장하실때 구멍을 내주셔야될것같아요바싹튀긴 치킨을 봉지에 담아오면 눅눅해지잖아요그런느낌이예요ㅠㅠ그리고 맛은 바베큐랑 청양마요 시켰는데제입엔 청양마요가 더맛나네요ㅎㅎㅎ매운거못드시는분들은 시키시면안될것같아여그리고돈까스는 피카츄돈까스처럼 그런맛일줄알았는데너무맛있어요!!!@!!!돈까스 생각날때 2개시켜서 먹어야겠어요ㅋㅋㅋㅋㅋㅋㅋㅋ\n",
      "개굴개굴개글개굴개굴개굴개굴개굴🐸🐸🐸🐸❤️❤️❤️❤️❤️❤️❤️❤️❤️❤️❤️❤️타코야끼 채고 ㅠㅠㅠ와….청양고추맛 개맛있어요ㅠㅠㅜㅜㅜㅜ 미니떡볶이도..!!!\n",
      "그냥 12알은 적을거같아서 많은걸로 시켰는데 생각보다 양이 많아서 배부르게 먹을거같아요!\n",
      "일단 너무 맛있었어요! 그리고 미니떡볶이라고 하길래 시켰는데 양이 진짜..ㅋㅋ 너무 많았어요! 근데 한가지 아쉬운 점은 안에 들어가있는 문어?가 너무 작아서 씹히는 맛이 부족했던거 같아요. 그래도 다시 시키라고 하면 시킬것 같습니다! 많이 파세요~\n",
      "처음시켜봤는데 양도많고 엄청 맛있더라구요 엄청 강추합니다 ~사진에는 반반만 찍었지만 저거 말고도 양이 엄청 많았습니다~\n",
      "양도 많고 리뷰이벵도 맛있고  너무 잘 먹었습니다!!\n",
      "양도 많고 맛있습니다.\n",
      "파마산 치즈랑 청양마요 정말 맛있었습니다\n",
      "대파랑 청양마요 두개시켰는데 진짜 맛 미쳤습니다.. 특히 대파는 첨먹어봤는데 너무맛있어요ㅠㅠ 조합 최고입니당 꼭시켜드세용ㅠㅠ 잘먹었습니다!\n",
      "맛있어요!! 양념도 되게 맛잇엇습니당\n",
      "길거리음식으로만 먹던건데 배달시켜먹으니 편하고 좋습니다~ 맛도 다양해서 골라먹는맛이 있어요\n",
      "양도 많고 촉촉하고 너무 맛있었어요 ㅜㅜ\n",
      "양도많고 맛잇습니다 기모띠히\n",
      "진짜 맛있어요!청양마요랑 대파했는데매콤하고 맛있어요~진짜 순삭했어요ㅋㅋㅋ\n",
      "소스양이 부족했지만 맛있었어요\n",
      "양도 많고 배달인데도 불구하고 따뜻하게 잘 왔습니다! 오리지널도 맛있지만 추가로 주문한 바베큐 맛이랑 청양마요맛도 정말 맛있었어요!! 소스가 생각보다 적어서 아주 조금 아쉬웠어요..! 저는 개인적으로 소스 듬뿍 찍어 먹는걸 좋아해서 다음에는 소스 많이 뿌려달라고 따로 말씀드려야할 것 같아요ㅎㅎ 잘 먹었습니다!\n",
      "다 맛있어요! 양이 디따 많았습니다! 다음에도 시킬게요!\n",
      "우유튀김 꿀맛 타코야키 매운양념 존맛 서비스 굿 👍 😍\n",
      "양도 푸짐하고 맛있게 잘먹었습니다~\n",
      "너무 맛있어요 ! 양념도 적절하게 들어가있어서 맛있는 거 같아요 ㅎ 배달도 빠르고 좋습니다 :) 다시 한 번 먹고 싶은 곳이에요 !!\n",
      "배달로 처음 타코야끼 시켜봤는데배달도 빠르고 가족이랑 잘 먹었습니다~맵찔이라서 일반 양념이랑 청양마요는 좀 맵네요 ㅠ리뷰이벤트도 잘 챙겨주시고 타코야끼 생각날때마다자주 시켜먹겠습니다~\n",
      "타코야끼에 불닭볶음면 먹는 게 유행이라 하길래 먹어봤는데 완전 맛있어용 히힛 그리고 볶음밥 양 너무 많아여💓💓 배달 50분 걸린다고 했는데 49분 걸렸어요 정석이시네요 ㅎㅎ..\n",
      "맛 좋습니다 양 많습니다.\n",
      "우아 양이짐짜 어마무지하다 다먹고 배터질거같아서 타코야끼랑 반반씩넣어두니 이렇게팔아도될듯 너무깔끔 ㅠ 배부르고 너무 맛잇게 잘먹었습니당 치밥먹고간식으로타코야끼먹고 굳굳😋세트현명합니다 ㅠ\n",
      "역시 다양하게 먹는게 좋네요\n",
      "여자친구 선물로 보냈는데 정말맛있다고 좋아하네요 ㅎㅎㅎ 덕분에 저도 기분이 좋습니다청양마요인데 그렇게 안맵다네요 많이 파세요\n",
      "너무 맛있어요! 두명이서 먹으니 배불러요! 양도 많고 튀김도 눅눅하지 않고 바삭하게 배달와서 넘 조아용. 배달도 빠르고 맛집! 타코야끼 생각나면 또 시켜먹을게요 :)\n",
      "생각보다 양이 많아서 놀랐어요!!너무 맛있어요\n",
      "양도 많고 맛있어요~\n"
     ]
    }
   ],
   "source": [
    "find_word(['양'])"
   ]
  },
  {
   "cell_type": "code",
   "execution_count": 21,
   "id": "3a2d1474",
   "metadata": {},
   "outputs": [
    {
     "name": "stdout",
     "output_type": "stream",
     "text": [
      "맛있게 잘먹었어요^^곱배기다운 곱배기네요 ㅎㅎ다든 만족스런 식사였어요빨리 먹고싶은 맘에 차리고있는데 사진 찍어버렸네요 ㅎㅎ\n",
      "배달도 빠르고 시원하고 간따로 안해도 될정도로 맛있었습니다\n",
      "배달도빠르고  배달인데도 돈까스바삭해요  냉면도 맛있어요..\n",
      "맛있어요 배달도 빨리와서 좋아요\n",
      "배달도 빠르고맛있어요^^ 냉면에 무도 많이 들어있어서 좋으네요!\n",
      "엄청 맛있어요! 육수도 비빔장도 진짜 맛있어요. 배달이 아무리 빨리 와도 보통 면이 뭉쳐져서 잘 안 비벼지는데 여긴 면이 부들부들해서 잘 비벼지고, 그와중에 쫄깃해서 맛있게 잘 먹었습니당. 갈비만두도 쵝오!!!\n",
      "포장상태 굿 배달은 빠르고 맛있어요\n",
      "맛있어요!!배달도 빠릅니당\n",
      "배달도 빨리오구 고기 술불향이 많이나서 좋았습니다 자주 시켜 먹어야겠어요!\n",
      "배달도 빠르고 아주 잘 먹었습니다!!!!!\n",
      "배달빠르고 맛있게먹었어욤^^\n",
      "배달도 엄청 빠르고 냉면이랑 숯불구이 너무 맛있어요 다음에 또 시켜먹어야겠네요ㅎㅎ\n",
      "돈까스 소스 앞으로 이렇게 오나요 아니면 오늘만 이런건가요 원래 빨간색 소스가 더 맛있었는데 시판소스로 바뀌었네요ㅜㅜ\n",
      "배달도 빠르고 양도 많아요 맛있게 잘 먹었습니다\n",
      "만두는 열자마자 숯불향이 강하게 났습니다. 그리고 냉면 육수도 완전 시원하고 매콤해서 없던 식욕도 생기게 만들었고요, 빠른 배달 덕분에 살얼음이 동동 띄워진 상태로 살아 있는 면발을 흡입했습니다 ㅠㅠㅠ , 돈가스도 말모말모 다음에도 시켜 먹을 의향 있습니다!!!\n"
     ]
    }
   ],
   "source": [
    "find_word(['빨', '빠'])"
   ]
  },
  {
   "cell_type": "code",
   "execution_count": 25,
   "id": "e5751d4f",
   "metadata": {},
   "outputs": [
    {
     "name": "stdout",
     "output_type": "stream",
     "text": [
      "약속시간 20분초과해서 오셨네요..리뷰이벤트 하면 늦어도되는건가요?\n",
      "어제 점심에 시켜 먹었는데, 리뷰가 늦었네요 ㅠ.ㅠ~~면도 쫄깃하고 양념도 독특하게 맛있네요.소스 직접 만드시나봐요!!보통 냉면집에서 맛볼 수 없는 맛이었습니다.열무랑 배가 아삭아삭 씹히는데 여름철별미에요.\n",
      "도착알림은 왔는데  초인종이 안울려서 나가보니옆집 문앞에 음식이 있었어요리뷰콜라 부탁드렸는데 쿨피스가 왔네요음식은 다 맛있었어요 잘먹었습니다\n",
      "처음 먹어 보는데 너무 맛있어요!보자마자 먹는데 리뷰 생각나서 올려요!!!잘먹겠습니다\n",
      "리뷰이벤트랑 별개로 진짜 맛있어요 ! 추천합니다\n",
      "냉면 육수도 칼칼하니 시원하고 좋았어요ㅎㅎ고기도 양념이 달달해서 냉면과 궁합이 잘 맞는거 같아요!! 리뷰이벤트로 주신 갈비만두도 아주 맛있었어요 잘 먹었습니다😊😊\n",
      "리뷰가 늦어졌네요역시나 맛있습니다.\n",
      "사장님 일단 별은 다섯개 드립니다.리뷰 이벤트를 했으니..하지만..음식 픽업후 30분 걸린다면 2중 3중 배달이겠죠?! 냉면이.. 거짓말 좀 보태서 우동 면발로 변해 있었습니다.정말 먹을수 없을만큼 불어 있네요.. 돈까스냉면 곱빼기 하나랑 국밥 냉면 세트에 면사리 추가 했는데.. 보통 면사리는 따로 보내주시지 않나요? 한번에 다 넣어놔서 같이 퉁퉁 잘 불어 있었네요.. 냉면 맛없게 먹은적은 처음 입니다.ㅠㅠ그래도 같이 시킨 국밥은 식어도 맛있었네요..수고하세요..\n",
      "면이 좀 불어서 왔긴했는데 맛있어요 매콤하니 리뷰이벤트로 주신 만두도 엄청 맛있습니당!\n",
      "처음 시켜봤는데 너무 맛있게 잘 먹었어요~~~ 리뷰 이벤트 갈비만두도 너무 맛있네요 !! 자주 시켜먹을거 같네요\n",
      "저번에 맛있게 먹어서 다시 재주문해서 리뷰 남겨요! ㅎㅎ\n",
      "냉면 정말 맛있어요!! 여태 먹어본 냉면들과는 정말 다른 느낌입니다 진짜 맛나요 ㅎㅎ리뷰 서비스로 받는 만두도 서비스라고 생각도 못할정도로 정말 맛있습니다!! 덕분에 즐거운 식사가 됐어요 감사합니다\n",
      "처음 먹어보는데 정말 너무너무 맛있어요ㅜㅜ!정말 이렇게 맛있는 냉면은 처음 먹어보는 것 같네요... 고기랑 먹어도 맛있고 그냥 먹어도 충격적으로 맛있어요!!!!!!! 리뷰 쓰는 조건으로 주시는 만두도 진짜 맛났구 ... 단골 예약하고 싶습니다!!!😽🤭\n",
      "3개월차 유튜버이지만 진짜 리얼하게 리뷰해봤습니다! 개인적으로 물냉면에 양념 안 들어간 걸 좋아해서 양념 들어간 게 아쉬웠고 회비냉엔 회가 조금 적어서 아쉬웠어요! 근데 진짜 맛있어요 특히 회비냉ㅠㅠ 원래 물냉면파인데 비냉이 사기네요ㅎㅎㅎ 그리로 리뷰이벤트로 받은 갈비만두 속이 꽉 차고 쫀득쫀득하니 맛있었습니다ㅎㅎㅎ 코시국에 많이 지치고 힘드실 수도 있지만 조금만 더 힘내시고 흥하시길 바랄게요♡\n",
      "오랜만에 시켜먹었는데 역시나 맛있었어요! 리뷰가 뒤늦게 생각나서 늦게 찍었는데 맛있게 잘먹었습니다\n"
     ]
    }
   ],
   "source": [
    "find_word(['리뷰'])"
   ]
  },
  {
   "cell_type": "code",
   "execution_count": null,
   "id": "9b2d7cd1",
   "metadata": {},
   "outputs": [],
   "source": []
  }
 ],
 "metadata": {
  "kernelspec": {
   "display_name": "Python 3 (ipykernel)",
   "language": "python",
   "name": "python3"
  },
  "language_info": {
   "codemirror_mode": {
    "name": "ipython",
    "version": 3
   },
   "file_extension": ".py",
   "mimetype": "text/x-python",
   "name": "python",
   "nbconvert_exporter": "python",
   "pygments_lexer": "ipython3",
   "version": "3.9.7"
  }
 },
 "nbformat": 4,
 "nbformat_minor": 5
}
