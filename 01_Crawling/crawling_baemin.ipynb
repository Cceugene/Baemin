{
 "cells": [
  {
   "cell_type": "code",
   "execution_count": 2,
   "id": "14b7b114",
   "metadata": {},
   "outputs": [],
   "source": [
    "from selenium import webdriver\n",
    "import time\n",
    "import pandas as pd\n",
    "import numpy as np\n",
    "from bs4 import BeautifulSoup\n",
    "import requests"
   ]
  },
  {
   "cell_type": "code",
   "execution_count": 10,
   "id": "96acaa33",
   "metadata": {},
   "outputs": [
    {
     "name": "stderr",
     "output_type": "stream",
     "text": [
      "C:\\Users\\Eugene\\AppData\\Local\\Temp\\ipykernel_31304\\1713898985.py:2: DeprecationWarning: executable_path has been deprecated, please pass in a Service object\n",
      "  driver = webdriver.Chrome(chrome_driver)\n",
      "C:\\Users\\Eugene\\AppData\\Local\\Temp\\ipykernel_31304\\1713898985.py:9: DeprecationWarning: find_element_by_name is deprecated. Please use find_element(by=By.NAME, value=name) instead\n",
      "  ID = driver.find_element_by_name('id')\n",
      "C:\\Users\\Eugene\\AppData\\Local\\Temp\\ipykernel_31304\\1713898985.py:10: DeprecationWarning: find_element_by_name is deprecated. Please use find_element(by=By.NAME, value=name) instead\n",
      "  PASS = driver.find_element_by_name('password')\n",
      "C:\\Users\\Eugene\\AppData\\Local\\Temp\\ipykernel_31304\\1713898985.py:14: DeprecationWarning: find_element_by_xpath is deprecated. Please use find_element(by=By.XPATH, value=xpath) instead\n",
      "  button = driver.find_element_by_xpath('//*[@class=\"Button__StyledButton-sc-394bsp-0 iqPqWd\"]')\n",
      "C:\\Users\\Eugene\\AppData\\Local\\Temp\\ipykernel_31304\\1713898985.py:23: DeprecationWarning: find_element_by_xpath is deprecated. Please use find_element(by=By.XPATH, value=xpath) instead\n",
      "  driver.find_element_by_xpath('//*[@class=\"FilterContainer-module__dOxp FilterContainer-module__dam2\"]').click()\n",
      "C:\\Users\\Eugene\\AppData\\Local\\Temp\\ipykernel_31304\\1713898985.py:25: DeprecationWarning: find_element_by_xpath is deprecated. Please use find_element(by=By.XPATH, value=xpath) instead\n",
      "  driver.find_element_by_xpath('//div[@class=\"Radio-module__P8H0\"]/label[2]/p').click() # 월 별 기간\n",
      "C:\\Users\\Eugene\\AppData\\Local\\Temp\\ipykernel_31304\\1713898985.py:26: DeprecationWarning: find_element_by_css_selector is deprecated. Please use find_element(by=By.CSS_SELECTOR, value=css_selector) instead\n",
      "  driver.find_element_by_css_selector('.DefaultDateFilterDialog-module__zF8H div div div:nth-child(5) label input').click() # 지난 6개월\n",
      "C:\\Users\\Eugene\\AppData\\Local\\Temp\\ipykernel_31304\\1713898985.py:27: DeprecationWarning: find_element_by_xpath is deprecated. Please use find_element(by=By.XPATH, value=xpath) instead\n",
      "  driver.find_element_by_xpath('//button[@class=\"button medium\"]').click()\n",
      "C:\\Users\\Eugene\\AppData\\Local\\Temp\\ipykernel_31304\\1713898985.py:31: DeprecationWarning: find_element_by_xpath is deprecated. Please use find_element(by=By.XPATH, value=xpath) instead\n",
      "  driver.find_element_by_xpath('//*[@class=\"FilterContainer-module__ZmLA\"]').click()\n",
      "C:\\Users\\Eugene\\AppData\\Local\\Temp\\ipykernel_31304\\1713898985.py:33: DeprecationWarning: find_element_by_xpath is deprecated. Please use find_element(by=By.XPATH, value=xpath) instead\n",
      "  driver.find_element_by_xpath('//select/option[@value=\"13442351\"]').click()\n",
      "C:\\Users\\Eugene\\AppData\\Local\\Temp\\ipykernel_31304\\1713898985.py:34: DeprecationWarning: find_element_by_xpath is deprecated. Please use find_element(by=By.XPATH, value=xpath) instead\n",
      "  driver.find_element_by_xpath('//button[@class=\"button medium\"]').click()\n",
      "C:\\Users\\Eugene\\AppData\\Local\\Temp\\ipykernel_31304\\1713898985.py:42: DeprecationWarning: find_element_by_xpath is deprecated. Please use find_element(by=By.XPATH, value=xpath) instead\n",
      "  button_open = driver.find_element_by_xpath('//*[@class=\"button ExpandAllButton-module__sp85 small text\"]')\n",
      "C:\\Users\\Eugene\\AppData\\Local\\Temp\\ipykernel_31304\\1713898985.py:47: DeprecationWarning: find_elements_by_css_selector is deprecated. Please use find_elements(by=By.CSS_SELECTOR, value=css_selector) instead\n",
      "  texts = driver.find_elements_by_css_selector('.FieldItem-module__vb6L, .DetailInfo-module__BSOH')\n",
      "C:\\Users\\Eugene\\AppData\\Local\\Temp\\ipykernel_31304\\1713898985.py:48: DeprecationWarning: find_elements_by_css_selector is deprecated. Please use find_elements(by=By.CSS_SELECTOR, value=css_selector) instead\n",
      "  ds = driver.find_elements_by_css_selector('table tr td:nth-child(2)')\n",
      "C:\\Users\\Eugene\\AppData\\Local\\Temp\\ipykernel_31304\\1713898985.py:58: DeprecationWarning: find_element_by_xpath is deprecated. Please use find_element(by=By.XPATH, value=xpath) instead\n",
      "  button_next = driver.find_element_by_xpath('//a[@class=\"Paging-module__BwVC\"]/i[@class=\"icon icon-chevron-right\"]')\n"
     ]
    },
    {
     "name": "stdout",
     "output_type": "stream",
     "text": [
      "종료\n"
     ]
    }
   ],
   "source": [
    "chrome_driver = 'chromedriver.exe'\n",
    "driver = webdriver.Chrome(chrome_driver)\n",
    "login_url = 'https://ceo.baemin.com/web/login?returnUrl=https%3A%2F%2Fceo.baemin.com%2F'\n",
    "url = 'https://ceo.baemin.com/self-service/orders/history'\n",
    "driver.get(login_url)\n",
    "time.sleep(1)\n",
    "\n",
    "# Login\n",
    "ID = driver.find_element_by_name('id')\n",
    "PASS = driver.find_element_by_name('password')\n",
    " # id, password\n",
    "ID.send_keys('아이디')\n",
    "PASS.send_keys('비밀번호')\n",
    "button = driver.find_element_by_xpath('//*[@class=\"Button__StyledButton-sc-394bsp-0 iqPqWd\"]')\n",
    "button.click()\n",
    "time.sleep(1)\n",
    "\n",
    "# 페이지 이동\n",
    "driver.get(url)\n",
    "time.sleep(2)\n",
    "\n",
    "# 기간 선택\n",
    "driver.find_element_by_xpath('//*[@class=\"FilterContainer-module__dOxp FilterContainer-module__dam2\"]').click()\n",
    "time.sleep(1)\n",
    "driver.find_element_by_xpath('//div[@class=\"Radio-module__P8H0\"]/label[2]/p').click() # 월 별 기간\n",
    "driver.find_element_by_css_selector('.DefaultDateFilterDialog-module__zF8H div div div:nth-child(5) label input').click() # 지난 6개월\n",
    "driver.find_element_by_xpath('//button[@class=\"button medium\"]').click()\n",
    "\n",
    "# 가게 선택 \n",
    "# 타코야끼: 13708011, 치밥: 13442351, 국밥: 13643240, 냉면: 13260990\n",
    "driver.find_element_by_xpath('//*[@class=\"FilterContainer-module__ZmLA\"]').click()\n",
    "time.sleep(1)\n",
    "driver.find_element_by_xpath('//select/option[@value=\"13442351\"]').click()\n",
    "driver.find_element_by_xpath('//button[@class=\"button medium\"]').click()\n",
    "\n",
    "menus = []\n",
    "dates = []\n",
    "\n",
    "for r in range(100): # 1페이지 당 10갸 내역\n",
    "    # 모두 펼쳐보기\n",
    "    time.sleep(1)\n",
    "    button_open = driver.find_element_by_xpath('//*[@class=\"button ExpandAllButton-module__sp85 small text\"]')\n",
    "    button_open.click()\n",
    "    time.sleep(2)\n",
    "\n",
    "    # scrapping (주문내역, 날짜)\n",
    "    texts = driver.find_elements_by_css_selector('.FieldItem-module__vb6L, .DetailInfo-module__BSOH')\n",
    "    ds = driver.find_elements_by_css_selector('table tr td:nth-child(2)')\n",
    "\n",
    "    # 리스트에 넣기\n",
    "    for t in texts:\n",
    "        menus.append(t.text)\n",
    "    for d in ds:\n",
    "        dates.append(d.text)\n",
    "\n",
    "    # 다음 페이지\n",
    "    time.sleep(2)\n",
    "    button_next = driver.find_element_by_xpath('//a[@class=\"Paging-module__BwVC\"]/i[@class=\"icon icon-chevron-right\"]')\n",
    "    button_next.click()\n",
    "\n",
    "print('종료')"
   ]
  },
  {
   "cell_type": "code",
   "execution_count": 13,
   "id": "2eb1fb48",
   "metadata": {
    "scrolled": true
   },
   "outputs": [
    {
     "data": {
      "text/plain": [
       "1000"
      ]
     },
     "execution_count": 13,
     "metadata": {},
     "output_type": "execute_result"
    }
   ],
   "source": [
    "len(dates)"
   ]
  },
  {
   "cell_type": "code",
   "execution_count": 18,
   "id": "b2c32a1f",
   "metadata": {},
   "outputs": [],
   "source": [
    "list = [dates, menus]"
   ]
  },
  {
   "cell_type": "markdown",
   "id": "051da874",
   "metadata": {},
   "source": [
    "## 리스트를 파일로 저장하기"
   ]
  },
  {
   "cell_type": "code",
   "execution_count": 19,
   "id": "d438f762",
   "metadata": {},
   "outputs": [],
   "source": [
    "import pickle\n",
    "\n",
    "with open('../data/Chibab_date_Menu.pkl', 'wb') as f:\n",
    "    pickle.dump(list, f)"
   ]
  },
  {
   "cell_type": "code",
   "execution_count": null,
   "id": "a3e55c97",
   "metadata": {},
   "outputs": [],
   "source": []
  }
 ],
 "metadata": {
  "kernelspec": {
   "display_name": "Python 3 (ipykernel)",
   "language": "python",
   "name": "python3"
  },
  "language_info": {
   "codemirror_mode": {
    "name": "ipython",
    "version": 3
   },
   "file_extension": ".py",
   "mimetype": "text/x-python",
   "name": "python",
   "nbconvert_exporter": "python",
   "pygments_lexer": "ipython3",
   "version": "3.9.7"
  }
 },
 "nbformat": 4,
 "nbformat_minor": 5
}
