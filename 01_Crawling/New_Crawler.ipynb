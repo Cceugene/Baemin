{
 "cells": [
  {
   "cell_type": "code",
   "execution_count": 2,
   "id": "14b7b114",
   "metadata": {},
   "outputs": [],
   "source": [
    "from selenium import webdriver\n",
    "import time\n",
    "from bs4 import BeautifulSoup\n",
    "import pandas as pd"
   ]
  },
  {
   "cell_type": "code",
   "execution_count": 5,
   "id": "1e133359",
   "metadata": {},
   "outputs": [],
   "source": [
    "# 아이디/비밀번호\n",
    "id = ''\n",
    "password = ''\n",
    "\n",
    "# 년도 선택\n",
    "year = '2022'"
   ]
  },
  {
   "cell_type": "markdown",
   "id": "246677d8",
   "metadata": {},
   "source": [
    "# 전체 분기별"
   ]
  },
  {
   "cell_type": "code",
   "execution_count": null,
   "id": "721bda56",
   "metadata": {},
   "outputs": [],
   "source": []
  },
  {
   "cell_type": "markdown",
   "id": "dd920754",
   "metadata": {},
   "source": [
    "# 메뉴별 분기"
   ]
  },
  {
   "cell_type": "code",
   "execution_count": 45,
   "id": "96acaa33",
   "metadata": {},
   "outputs": [
    {
     "name": "stderr",
     "output_type": "stream",
     "text": [
      "C:\\Users\\Eugene\\AppData\\Local\\Temp\\ipykernel_21512\\2649644680.py:12: DeprecationWarning: executable_path has been deprecated, please pass in a Service object\n",
      "  driver = webdriver.Chrome(chrome_driver)\n"
     ]
    },
    {
     "name": "stdout",
     "output_type": "stream",
     "text": [
      "180\n",
      "종료\n"
     ]
    }
   ],
   "source": [
    "chrome_driver = './chromedriver.exe'\n",
    "login_url = 'https://ceo.baemin.com/web/login?returnUrl=https%3A%2F%2Fceo.baemin.com%2F'\n",
    "url = 'https://ceo.baemin.com/self-service/orders/history'\n",
    "DF = pd.DataFrame()\n",
    "\n",
    "#가게 선택\n",
    "            # 냉면, 국밥, 치밥, 타코야끼\n",
    "stores = ['13260990', '13643240', '13442351', '13708011']\n",
    "store = stores[2] # 치밥 선택\n",
    "\n",
    "# 로그인 페이지 이동\n",
    "driver = webdriver.Chrome(chrome_driver)\n",
    "driver.get(login_url)\n",
    "time.sleep(1)\n",
    "\n",
    "# 로그인\n",
    "ID = driver.find_element(by='name', value='id')\n",
    "PASS = driver.find_element(by='name', value='password')\n",
    "ID.send_keys(id)\n",
    "PASS.send_keys(password)\n",
    "button = driver.find_element(by='xpath', value='//*[@class=\"Button__StyledButton-sc-394bsp-0 IqKSG\"]')\n",
    "button.click()\n",
    "time.sleep(1)\n",
    "\n",
    "# 페이지 이동\n",
    "driver.get(url)\n",
    "time.sleep(2)\n",
    "\n",
    "# 가게 선택\n",
    "driver.find_element(by='xpath', value='//*[@class=\"FilterContainer-module__ZmLA\"]').click()\n",
    "time.sleep(1)\n",
    "driver.find_element(by='xpath', value=f'//select/option[@value=\"{store}\"]').click()\n",
    "driver.find_element(by='xpath', value='//button[@class=\"button medium\"]').click()\n",
    "time.sleep(1)\n",
    "\n",
    "for i in range(6, 7): # 하반기\n",
    "    try:\n",
    "        data = []\n",
    "        \n",
    "        # 기간 선택\n",
    "        driver.find_element(by='xpath', value='//*[@class=\"FilterContainer-module__dOxp FilterContainer-module__dam2\"]').click()\n",
    "        time.sleep(1)\n",
    "        driver.find_element(by='xpath', value='//div[@class=\"Radio-module__P8H0\"]/label[3]/p').click() # 분기\n",
    "        driver.find_element(by='xpath', value=f'//select[@class=\"YearSelector-module__DaIR\"]/option[@value=\"{year}\"]').click() # 년도\n",
    "        driver.find_element(by='css selector', value=f'.form-control > div:nth-child({i}) input').click() # 상/하반기\n",
    "        driver.find_element(by='xpath', value='//button[@class=\"button medium\"]').click()\n",
    "        time.sleep(1)\n",
    "        \n",
    "        while True:\n",
    "            try:\n",
    "                # 모두 펼쳐보기\n",
    "                button_open = driver.find_element(by='xpath', value='//*[@class=\"button ExpandAllButton-module__sp85 small text\"]')\n",
    "                button_open.click()\n",
    "                time.sleep(2)\n",
    "\n",
    "                # scrapping\n",
    "                soup = BeautifulSoup(driver.page_source,'html.parser')\n",
    "                texts = soup.find_all('td', attrs={\"class\":\"pivoted\"})\n",
    "                \n",
    "\n",
    "                for i in range(0, 100, 10):\n",
    "                    menu = texts[i+9].find('div', attrs={\"class\":\"DetailInfo-module__DjeY\"}).text\n",
    "                    a = [texts[i].text[5:], texts[i+1].text[:12], texts[i+1].text[18:20], texts[i+1].text[21:], menu.split('총 결제금액')[0], texts[i+6].text, texts[i+7].text[:-1].replace(',', '')]\n",
    "                    data.append(a)\n",
    "                    \n",
    "                # 다음 페이지\n",
    "                button_next = driver.find_element(by='xpath', value='//a[@class=\"Paging-module__BwVC\"]/i[@class=\"icon icon-chevron-right\"]')\n",
    "                button_next.click()\n",
    "                time.sleep(1)\n",
    "            except:\n",
    "                print(len(data))\n",
    "                break\n",
    "    except:\n",
    "        print('기간 선택에 대한 에러')\n",
    "        pass\n",
    "\n",
    "    df = pd.DataFrame(data, columns=['주문번호', '주문일자', '오전/오후', '주문시간', '메뉴', '배달/포장 구분', '주문금액'])\n",
    "    DF = pd.concat([df, DF], ignore_index=True)\n",
    "    DF.to_csv(f'../data/data_{store}_{year}.csv')\n",
    "\n",
    "driver.quit()\n",
    "print('종료')"
   ]
  }
 ],
 "metadata": {
  "kernelspec": {
   "display_name": "Python 3 (ipykernel)",
   "language": "python",
   "name": "python3"
  },
  "language_info": {
   "codemirror_mode": {
    "name": "ipython",
    "version": 3
   },
   "file_extension": ".py",
   "mimetype": "text/x-python",
   "name": "python",
   "nbconvert_exporter": "python",
   "pygments_lexer": "ipython3",
   "version": "3.9.7"
  }
 },
 "nbformat": 4,
 "nbformat_minor": 5
}
