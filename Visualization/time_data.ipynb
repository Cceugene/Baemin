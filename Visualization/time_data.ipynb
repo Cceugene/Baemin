{
 "cells": [
  {
   "cell_type": "code",
   "execution_count": 1,
   "id": "8d14e847",
   "metadata": {},
   "outputs": [],
   "source": [
    "import pandas as pd\n",
    "import pickle as pkl"
   ]
  },
  {
   "cell_type": "markdown",
   "id": "8ca6206b",
   "metadata": {},
   "source": [
    "# 데이터 전처리"
   ]
  },
  {
   "cell_type": "markdown",
   "id": "3d791fb6",
   "metadata": {},
   "source": [
    "## Pickle로 데이터 불러오기"
   ]
  },
  {
   "cell_type": "code",
   "execution_count": 2,
   "id": "10727f0c",
   "metadata": {},
   "outputs": [],
   "source": [
    "with open('Crawling/bystore.pkl', 'rb') as f:\n",
    "    data = pkl.load(f)"
   ]
  },
  {
   "cell_type": "markdown",
   "id": "429c5ee9",
   "metadata": {},
   "source": [
    "## 날짜와 시간으로 나누기"
   ]
  },
  {
   "cell_type": "code",
   "execution_count": 3,
   "id": "e82ff63e",
   "metadata": {},
   "outputs": [],
   "source": [
    "# 날짜/시간 데이터 분리\n",
    "def date_parser(data):\n",
    "    dates = []\n",
    "    for d in data:\n",
    "        a, b = d.split('\\n')\n",
    "        box = [a[:13], a[15], b[:2], b[3:11]]\n",
    "        dates.append(box)\n",
    "    return dates\n",
    "\n",
    "# 데이터 프레임\n",
    "def df_maker(index):\n",
    "    columns = ['date', 'day', 'noon', 'time']\n",
    "    df = pd.DataFrame(date_parser(data[index][0]), columns=columns)\n",
    "    df['date'] = pd.to_datetime(df['date'])\n",
    "    return df"
   ]
  },
  {
   "cell_type": "code",
   "execution_count": 4,
   "id": "36905770",
   "metadata": {
    "scrolled": true
   },
   "outputs": [
    {
     "data": {
      "text/html": [
       "<div>\n",
       "<style scoped>\n",
       "    .dataframe tbody tr th:only-of-type {\n",
       "        vertical-align: middle;\n",
       "    }\n",
       "\n",
       "    .dataframe tbody tr th {\n",
       "        vertical-align: top;\n",
       "    }\n",
       "\n",
       "    .dataframe thead th {\n",
       "        text-align: right;\n",
       "    }\n",
       "</style>\n",
       "<table border=\"1\" class=\"dataframe\">\n",
       "  <thead>\n",
       "    <tr style=\"text-align: right;\">\n",
       "      <th></th>\n",
       "      <th>date</th>\n",
       "      <th>day</th>\n",
       "      <th>noon</th>\n",
       "      <th>time</th>\n",
       "    </tr>\n",
       "  </thead>\n",
       "  <tbody>\n",
       "    <tr>\n",
       "      <th>0</th>\n",
       "      <td>2022-06-21</td>\n",
       "      <td>화</td>\n",
       "      <td>오후</td>\n",
       "      <td>10:13:21</td>\n",
       "    </tr>\n",
       "    <tr>\n",
       "      <th>1</th>\n",
       "      <td>2022-06-21</td>\n",
       "      <td>화</td>\n",
       "      <td>오후</td>\n",
       "      <td>10:03:40</td>\n",
       "    </tr>\n",
       "    <tr>\n",
       "      <th>2</th>\n",
       "      <td>2022-06-21</td>\n",
       "      <td>화</td>\n",
       "      <td>오후</td>\n",
       "      <td>09:54:45</td>\n",
       "    </tr>\n",
       "    <tr>\n",
       "      <th>3</th>\n",
       "      <td>2022-06-21</td>\n",
       "      <td>화</td>\n",
       "      <td>오후</td>\n",
       "      <td>09:54:03</td>\n",
       "    </tr>\n",
       "    <tr>\n",
       "      <th>4</th>\n",
       "      <td>2022-06-21</td>\n",
       "      <td>화</td>\n",
       "      <td>오후</td>\n",
       "      <td>09:37:27</td>\n",
       "    </tr>\n",
       "    <tr>\n",
       "      <th>...</th>\n",
       "      <td>...</td>\n",
       "      <td>...</td>\n",
       "      <td>...</td>\n",
       "      <td>...</td>\n",
       "    </tr>\n",
       "    <tr>\n",
       "      <th>1551</th>\n",
       "      <td>2022-03-24</td>\n",
       "      <td>목</td>\n",
       "      <td>오후</td>\n",
       "      <td>05:57:43</td>\n",
       "    </tr>\n",
       "    <tr>\n",
       "      <th>1552</th>\n",
       "      <td>2022-03-24</td>\n",
       "      <td>목</td>\n",
       "      <td>오후</td>\n",
       "      <td>02:09:57</td>\n",
       "    </tr>\n",
       "    <tr>\n",
       "      <th>1553</th>\n",
       "      <td>2022-03-24</td>\n",
       "      <td>목</td>\n",
       "      <td>오후</td>\n",
       "      <td>12:09:32</td>\n",
       "    </tr>\n",
       "    <tr>\n",
       "      <th>1554</th>\n",
       "      <td>2022-03-24</td>\n",
       "      <td>목</td>\n",
       "      <td>오전</td>\n",
       "      <td>11:42:02</td>\n",
       "    </tr>\n",
       "    <tr>\n",
       "      <th>1555</th>\n",
       "      <td>2022-03-24</td>\n",
       "      <td>목</td>\n",
       "      <td>오전</td>\n",
       "      <td>11:19:05</td>\n",
       "    </tr>\n",
       "  </tbody>\n",
       "</table>\n",
       "<p>1556 rows × 4 columns</p>\n",
       "</div>"
      ],
      "text/plain": [
       "           date day noon      time\n",
       "0    2022-06-21   화   오후  10:13:21\n",
       "1    2022-06-21   화   오후  10:03:40\n",
       "2    2022-06-21   화   오후  09:54:45\n",
       "3    2022-06-21   화   오후  09:54:03\n",
       "4    2022-06-21   화   오후  09:37:27\n",
       "...         ...  ..  ...       ...\n",
       "1551 2022-03-24   목   오후  05:57:43\n",
       "1552 2022-03-24   목   오후  02:09:57\n",
       "1553 2022-03-24   목   오후  12:09:32\n",
       "1554 2022-03-24   목   오전  11:42:02\n",
       "1555 2022-03-24   목   오전  11:19:05\n",
       "\n",
       "[1556 rows x 4 columns]"
      ]
     },
     "execution_count": 4,
     "metadata": {},
     "output_type": "execute_result"
    }
   ],
   "source": [
    "df0 = df_maker(0)\n",
    "df1 = df_maker(1)\n",
    "df2 = df_maker(2)\n",
    "df3 = df_maker(3)\n",
    "df3"
   ]
  },
  {
   "cell_type": "markdown",
   "id": "3d42c009",
   "metadata": {},
   "source": [
    "# 시각화"
   ]
  },
  {
   "cell_type": "code",
   "execution_count": 5,
   "id": "62b6bf8e",
   "metadata": {},
   "outputs": [],
   "source": [
    "import matplotlib.pyplot as plt\n",
    "import seaborn as sns\n",
    "%matplotlib inline"
   ]
  },
  {
   "cell_type": "markdown",
   "id": "155387e2",
   "metadata": {},
   "source": [
    "### 한글"
   ]
  },
  {
   "cell_type": "code",
   "execution_count": 6,
   "id": "73cd3af1",
   "metadata": {},
   "outputs": [],
   "source": [
    "import platform\n",
    "import matplotlib\n",
    "from matplotlib import font_manager, rc\n",
    "\n",
    "# '-' 기호 보이게 하기\n",
    "matplotlib.rcParams['axes.unicode_minus'] = False\n",
    "\n",
    "# 운영 체제마다 한글이 보이게 하는 설정\n",
    "# 윈도우\n",
    "if platform.system() == 'Windows':\n",
    "    path = \"c:\\Windows\\Fonts\\malgun.ttf\"\n",
    "    font_name = font_manager.FontProperties(fname=path).get_name()\n",
    "    rc('font', family=font_name)\n",
    "# 맥\n",
    "elif platform.system() == 'Darwin':\n",
    "    rc('font', family='AppleGothic')\n",
    "# 리눅스\n",
    "elif platform.system() == 'Linux':\n",
    "    rc('font', family='NanumBarunGothic')"
   ]
  },
  {
   "cell_type": "markdown",
   "id": "58f5ba10",
   "metadata": {},
   "source": [
    "## 요일별  주문량"
   ]
  },
  {
   "cell_type": "code",
   "execution_count": 7,
   "id": "bc9f8198",
   "metadata": {},
   "outputs": [],
   "source": [
    "def bar_chart(df, feature, ax, title):\n",
    "    Mon = df.loc[df['day'] == '월'][feature].value_counts()\n",
    "    Tue = df.loc[df['day'] == '화'][feature].value_counts()\n",
    "    Wed = df.loc[df['day'] == '수'][feature].value_counts()\n",
    "    Thu = df.loc[df['day'] == '목'][feature].value_counts()\n",
    "    Fri = df.loc[df['day'] == '금'][feature].value_counts()\n",
    "    Sat = df.loc[df['day'] == '토'][feature].value_counts()\n",
    "    Sun = df.loc[df['day'] == '일'][feature].value_counts()\n",
    "    df_sur = pd.DataFrame([Mon, Tue, Wed, Thu, Fri, Sat, Sun], index=['Mon', 'Tue', 'Wed', 'Thu', 'Fri', 'Sat', 'Sun'])\n",
    "    df_sur.plot(kind='bar', stacked=True, ax=ax)\n",
    "    ax.set_title(title)"
   ]
  },
  {
   "cell_type": "code",
   "execution_count": 8,
   "id": "0bea195c",
   "metadata": {
    "scrolled": false
   },
   "outputs": [
    {
     "data": {
      "image/png": "[encoded data removed]",
      "text/plain": [
       "<Figure size 864x432 with 4 Axes>"
      ]
     },
     "metadata": {
      "needs_background": "light"
     },
     "output_type": "display_data"
    }
   ],
   "source": [
    "figure, ((ax1, ax2), (ax3, ax4)) = plt.subplots(nrows=2, ncols=2)\n",
    "figure.set_size_inches(12, 6)\n",
    "figure.tight_layout(h_pad=4)\n",
    "\n",
    "bar_chart(df0, 'noon', ax=ax1, title='타코야끼')\n",
    "bar_chart(df1, 'noon', ax=ax2, title='치밥')\n",
    "bar_chart(df2, 'noon', ax=ax3, title='국밥')\n",
    "bar_chart(df3, 'noon', ax=ax4, title='냉면')"
   ]
  },
  {
   "cell_type": "markdown",
   "id": "5b42eeb9",
   "metadata": {},
   "source": [
    "__타코야끼, 국밥, 냉면__ 의 경우 주말, 특히 __일요일__ 에 주문량이 많은 것으로 나타났지만 __치밥__ 은 요일의 영향을 크게 받지 않는 것으로 나타났다. 또한, 치밥의 경우 __오전 주문__ 비중이 다른 메뉴에 비해 높게 나타났다. 다른 메뉴에 비해 치밥이 가벼운 점심 식사로 적절하기 때문인 것으로 보이며, 치밥의 판매량을 늘리기 위해서는 `점심식사에 맞는 사이드메뉴를 추가 하는` 등의 변화가 필요한 것으로 보인다."
   ]
  },
  {
   "cell_type": "markdown",
   "id": "055606a4",
   "metadata": {},
   "source": [
    "## 날짜별 주문량"
   ]
  },
  {
   "cell_type": "code",
   "execution_count": 9,
   "id": "b9888b6a",
   "metadata": {},
   "outputs": [],
   "source": [
    "total = pd.concat([df0, df1, df2, df3], ignore_index = True)\n",
    "total['month'] = total['date'].dt.month\n",
    "total['days'] = total['date'].dt.day\n",
    "total['count'] = 1\n",
    "group = total.groupby('days')[['count']].sum()\n",
    "group = group.reset_index()"
   ]
  },
  {
   "cell_type": "code",
   "execution_count": 10,
   "id": "b663d731",
   "metadata": {},
   "outputs": [
    {
     "data": {
      "text/plain": [
       "<AxesSubplot:xlabel='days', ylabel='count'>"
      ]
     },
     "execution_count": 10,
     "metadata": {},
     "output_type": "execute_result"
    },
    {
     "data": {
      "image/png": "[encoded data removed]",
      "text/plain": [
       "<Figure size 432x288 with 1 Axes>"
      ]
     },
     "metadata": {
      "needs_background": "light"
     },
     "output_type": "display_data"
    }
   ],
   "source": [
    "sns.barplot(data=group, x=\"days\", y=\"count\")"
   ]
  },
  {
   "cell_type": "markdown",
   "id": "5a28a2e4",
   "metadata": {},
   "source": [
    "## 시간대별 주문량"
   ]
  },
  {
   "cell_type": "code",
   "execution_count": 42,
   "id": "19fa1b00",
   "metadata": {},
   "outputs": [],
   "source": [
    "# 시간 컬럼 추가\n",
    "total['hour'] = total['time'].apply(lambda x: int(x[:2])+12)\n",
    "total.loc[(total['noon']=='오전')&(total['hour']==22), 'hour'] = 10\n",
    "total.loc[(total['noon']=='오전')&(total['hour']==23), 'hour'] = 11\n",
    "total.loc[(total['noon']=='오후')&(total['hour']==24), 'hour'] = 12\n",
    "\n",
    "# 주간 컬럼 추가\n",
    "total['workingday'] = '주간'\n",
    "total.loc[(total['day'] == '토')|(total['day'] == '일'), 'workingday'] = '주말'"
   ]
  },
  {
   "cell_type": "code",
   "execution_count": 48,
   "id": "21f30ecd",
   "metadata": {},
   "outputs": [],
   "source": [
    "group2 = total.groupby(['hour', 'workingday'])[['count']].sum()\n",
    "group2 = group2.reset_index()"
   ]
  },
  {
   "cell_type": "code",
   "execution_count": 60,
   "id": "ae1d3ea1",
   "metadata": {},
   "outputs": [
    {
     "name": "stderr",
     "output_type": "stream",
     "text": [
      "C:\\Users\\Eugene\\AppData\\Local\\Temp\\ipykernel_21360\\1790724115.py:2: SettingWithCopyWarning: \n",
      "A value is trying to be set on a copy of a slice from a DataFrame.\n",
      "Try using .loc[row_indexer,col_indexer] = value instead\n",
      "\n",
      "See the caveats in the documentation: https://pandas.pydata.org/pandas-docs/stable/user_guide/indexing.html#returning-a-view-versus-a-copy\n",
      "  mean1['mean'] = mean1['count']/4\n",
      "C:\\Users\\Eugene\\AppData\\Local\\Temp\\ipykernel_21360\\1790724115.py:4: SettingWithCopyWarning: \n",
      "A value is trying to be set on a copy of a slice from a DataFrame.\n",
      "Try using .loc[row_indexer,col_indexer] = value instead\n",
      "\n",
      "See the caveats in the documentation: https://pandas.pydata.org/pandas-docs/stable/user_guide/indexing.html#returning-a-view-versus-a-copy\n",
      "  mean2['mean'] = mean2['count']/2\n"
     ]
    },
    {
     "data": {
      "text/html": [
       "<div>\n",
       "<style scoped>\n",
       "    .dataframe tbody tr th:only-of-type {\n",
       "        vertical-align: middle;\n",
       "    }\n",
       "\n",
       "    .dataframe tbody tr th {\n",
       "        vertical-align: top;\n",
       "    }\n",
       "\n",
       "    .dataframe thead th {\n",
       "        text-align: right;\n",
       "    }\n",
       "</style>\n",
       "<table border=\"1\" class=\"dataframe\">\n",
       "  <thead>\n",
       "    <tr style=\"text-align: right;\">\n",
       "      <th></th>\n",
       "      <th>hour</th>\n",
       "      <th>workingday</th>\n",
       "      <th>count</th>\n",
       "      <th>mean</th>\n",
       "    </tr>\n",
       "  </thead>\n",
       "  <tbody>\n",
       "    <tr>\n",
       "      <th>0</th>\n",
       "      <td>10</td>\n",
       "      <td>주간</td>\n",
       "      <td>73</td>\n",
       "      <td>18.250000</td>\n",
       "    </tr>\n",
       "    <tr>\n",
       "      <th>1</th>\n",
       "      <td>11</td>\n",
       "      <td>주간</td>\n",
       "      <td>265</td>\n",
       "      <td>66.250000</td>\n",
       "    </tr>\n",
       "    <tr>\n",
       "      <th>2</th>\n",
       "      <td>12</td>\n",
       "      <td>주간</td>\n",
       "      <td>236</td>\n",
       "      <td>59.000000</td>\n",
       "    </tr>\n",
       "    <tr>\n",
       "      <th>3</th>\n",
       "      <td>13</td>\n",
       "      <td>주간</td>\n",
       "      <td>173</td>\n",
       "      <td>43.250000</td>\n",
       "    </tr>\n",
       "    <tr>\n",
       "      <th>4</th>\n",
       "      <td>14</td>\n",
       "      <td>주간</td>\n",
       "      <td>112</td>\n",
       "      <td>28.000000</td>\n",
       "    </tr>\n",
       "    <tr>\n",
       "      <th>5</th>\n",
       "      <td>15</td>\n",
       "      <td>주간</td>\n",
       "      <td>76</td>\n",
       "      <td>19.000000</td>\n",
       "    </tr>\n",
       "    <tr>\n",
       "      <th>6</th>\n",
       "      <td>17</td>\n",
       "      <td>주간</td>\n",
       "      <td>173</td>\n",
       "      <td>43.250000</td>\n",
       "    </tr>\n",
       "    <tr>\n",
       "      <th>7</th>\n",
       "      <td>18</td>\n",
       "      <td>주간</td>\n",
       "      <td>283</td>\n",
       "      <td>70.750000</td>\n",
       "    </tr>\n",
       "    <tr>\n",
       "      <th>8</th>\n",
       "      <td>19</td>\n",
       "      <td>주간</td>\n",
       "      <td>255</td>\n",
       "      <td>63.750000</td>\n",
       "    </tr>\n",
       "    <tr>\n",
       "      <th>9</th>\n",
       "      <td>20</td>\n",
       "      <td>주간</td>\n",
       "      <td>225</td>\n",
       "      <td>56.250000</td>\n",
       "    </tr>\n",
       "    <tr>\n",
       "      <th>10</th>\n",
       "      <td>21</td>\n",
       "      <td>주간</td>\n",
       "      <td>247</td>\n",
       "      <td>61.750000</td>\n",
       "    </tr>\n",
       "    <tr>\n",
       "      <th>11</th>\n",
       "      <td>22</td>\n",
       "      <td>주간</td>\n",
       "      <td>123</td>\n",
       "      <td>30.750000</td>\n",
       "    </tr>\n",
       "    <tr>\n",
       "      <th>12</th>\n",
       "      <td>10</td>\n",
       "      <td>주말</td>\n",
       "      <td>86</td>\n",
       "      <td>43.000000</td>\n",
       "    </tr>\n",
       "    <tr>\n",
       "      <th>13</th>\n",
       "      <td>11</td>\n",
       "      <td>주말</td>\n",
       "      <td>169</td>\n",
       "      <td>84.500000</td>\n",
       "    </tr>\n",
       "    <tr>\n",
       "      <th>14</th>\n",
       "      <td>12</td>\n",
       "      <td>주말</td>\n",
       "      <td>169</td>\n",
       "      <td>84.500000</td>\n",
       "    </tr>\n",
       "    <tr>\n",
       "      <th>15</th>\n",
       "      <td>13</td>\n",
       "      <td>주말</td>\n",
       "      <td>141</td>\n",
       "      <td>70.500000</td>\n",
       "    </tr>\n",
       "    <tr>\n",
       "      <th>16</th>\n",
       "      <td>14</td>\n",
       "      <td>주말</td>\n",
       "      <td>127</td>\n",
       "      <td>63.500000</td>\n",
       "    </tr>\n",
       "    <tr>\n",
       "      <th>17</th>\n",
       "      <td>15</td>\n",
       "      <td>주말</td>\n",
       "      <td>42</td>\n",
       "      <td>21.000000</td>\n",
       "    </tr>\n",
       "    <tr>\n",
       "      <th>18</th>\n",
       "      <td>17</td>\n",
       "      <td>주말</td>\n",
       "      <td>138</td>\n",
       "      <td>69.000000</td>\n",
       "    </tr>\n",
       "    <tr>\n",
       "      <th>19</th>\n",
       "      <td>18</td>\n",
       "      <td>주말</td>\n",
       "      <td>158</td>\n",
       "      <td>79.000000</td>\n",
       "    </tr>\n",
       "    <tr>\n",
       "      <th>20</th>\n",
       "      <td>19</td>\n",
       "      <td>주말</td>\n",
       "      <td>169</td>\n",
       "      <td>84.500000</td>\n",
       "    </tr>\n",
       "    <tr>\n",
       "      <th>21</th>\n",
       "      <td>20</td>\n",
       "      <td>주말</td>\n",
       "      <td>139</td>\n",
       "      <td>69.500000</td>\n",
       "    </tr>\n",
       "    <tr>\n",
       "      <th>22</th>\n",
       "      <td>21</td>\n",
       "      <td>주말</td>\n",
       "      <td>154</td>\n",
       "      <td>77.000000</td>\n",
       "    </tr>\n",
       "    <tr>\n",
       "      <th>23</th>\n",
       "      <td>22</td>\n",
       "      <td>주말</td>\n",
       "      <td>71</td>\n",
       "      <td>35.500000</td>\n",
       "    </tr>\n",
       "    <tr>\n",
       "      <th>24</th>\n",
       "      <td>10</td>\n",
       "      <td>전체</td>\n",
       "      <td>159</td>\n",
       "      <td>26.500000</td>\n",
       "    </tr>\n",
       "    <tr>\n",
       "      <th>25</th>\n",
       "      <td>11</td>\n",
       "      <td>전체</td>\n",
       "      <td>434</td>\n",
       "      <td>72.333333</td>\n",
       "    </tr>\n",
       "    <tr>\n",
       "      <th>26</th>\n",
       "      <td>12</td>\n",
       "      <td>전체</td>\n",
       "      <td>405</td>\n",
       "      <td>67.500000</td>\n",
       "    </tr>\n",
       "    <tr>\n",
       "      <th>27</th>\n",
       "      <td>13</td>\n",
       "      <td>전체</td>\n",
       "      <td>314</td>\n",
       "      <td>52.333333</td>\n",
       "    </tr>\n",
       "    <tr>\n",
       "      <th>28</th>\n",
       "      <td>14</td>\n",
       "      <td>전체</td>\n",
       "      <td>239</td>\n",
       "      <td>39.833333</td>\n",
       "    </tr>\n",
       "    <tr>\n",
       "      <th>29</th>\n",
       "      <td>15</td>\n",
       "      <td>전체</td>\n",
       "      <td>118</td>\n",
       "      <td>19.666667</td>\n",
       "    </tr>\n",
       "    <tr>\n",
       "      <th>30</th>\n",
       "      <td>17</td>\n",
       "      <td>전체</td>\n",
       "      <td>311</td>\n",
       "      <td>51.833333</td>\n",
       "    </tr>\n",
       "    <tr>\n",
       "      <th>31</th>\n",
       "      <td>18</td>\n",
       "      <td>전체</td>\n",
       "      <td>441</td>\n",
       "      <td>73.500000</td>\n",
       "    </tr>\n",
       "    <tr>\n",
       "      <th>32</th>\n",
       "      <td>19</td>\n",
       "      <td>전체</td>\n",
       "      <td>424</td>\n",
       "      <td>70.666667</td>\n",
       "    </tr>\n",
       "    <tr>\n",
       "      <th>33</th>\n",
       "      <td>20</td>\n",
       "      <td>전체</td>\n",
       "      <td>364</td>\n",
       "      <td>60.666667</td>\n",
       "    </tr>\n",
       "    <tr>\n",
       "      <th>34</th>\n",
       "      <td>21</td>\n",
       "      <td>전체</td>\n",
       "      <td>401</td>\n",
       "      <td>66.833333</td>\n",
       "    </tr>\n",
       "    <tr>\n",
       "      <th>35</th>\n",
       "      <td>22</td>\n",
       "      <td>전체</td>\n",
       "      <td>194</td>\n",
       "      <td>32.333333</td>\n",
       "    </tr>\n",
       "  </tbody>\n",
       "</table>\n",
       "</div>"
      ],
      "text/plain": [
       "    hour workingday  count       mean\n",
       "0     10         주간     73  18.250000\n",
       "1     11         주간    265  66.250000\n",
       "2     12         주간    236  59.000000\n",
       "3     13         주간    173  43.250000\n",
       "4     14         주간    112  28.000000\n",
       "5     15         주간     76  19.000000\n",
       "6     17         주간    173  43.250000\n",
       "7     18         주간    283  70.750000\n",
       "8     19         주간    255  63.750000\n",
       "9     20         주간    225  56.250000\n",
       "10    21         주간    247  61.750000\n",
       "11    22         주간    123  30.750000\n",
       "12    10         주말     86  43.000000\n",
       "13    11         주말    169  84.500000\n",
       "14    12         주말    169  84.500000\n",
       "15    13         주말    141  70.500000\n",
       "16    14         주말    127  63.500000\n",
       "17    15         주말     42  21.000000\n",
       "18    17         주말    138  69.000000\n",
       "19    18         주말    158  79.000000\n",
       "20    19         주말    169  84.500000\n",
       "21    20         주말    139  69.500000\n",
       "22    21         주말    154  77.000000\n",
       "23    22         주말     71  35.500000\n",
       "24    10         전체    159  26.500000\n",
       "25    11         전체    434  72.333333\n",
       "26    12         전체    405  67.500000\n",
       "27    13         전체    314  52.333333\n",
       "28    14         전체    239  39.833333\n",
       "29    15         전체    118  19.666667\n",
       "30    17         전체    311  51.833333\n",
       "31    18         전체    441  73.500000\n",
       "32    19         전체    424  70.666667\n",
       "33    20         전체    364  60.666667\n",
       "34    21         전체    401  66.833333\n",
       "35    22         전체    194  32.333333"
      ]
     },
     "execution_count": 60,
     "metadata": {},
     "output_type": "execute_result"
    }
   ],
   "source": [
    "mean1 = group2.groupby(['workingday']).get_group(name = '주간')\n",
    "mean1['mean'] = mean1['count']/4\n",
    "mean2 = group2.groupby(['workingday']).get_group(name = '주말')\n",
    "mean2['mean'] = mean2['count']/2\n",
    "mean = pd.concat((mean1, mean2), ignore_index=True)\n",
    "\n",
    "# 시간대별 전체\n",
    "mean3 = mean.groupby('hour')[['count']].sum()\n",
    "mean3['workingday'] = '전체'\n",
    "mean3['mean'] = mean3['count']/6\n",
    "mean3 = mean3.reset_index()\n",
    "mean = pd.concat((mean, mean3), ignore_index=True)\n",
    "mean"
   ]
  },
  {
   "cell_type": "code",
   "execution_count": 72,
   "id": "c0ffc168",
   "metadata": {
    "scrolled": true
   },
   "outputs": [
    {
     "data": {
      "text/plain": [
       "Text(0.5, 1.0, '시간대별 주문량')"
      ]
     },
     "execution_count": 72,
     "metadata": {},
     "output_type": "execute_result"
    },
    {
     "data": {
      "image/png": "[encoded data removed]",
      "text/plain": [
       "<Figure size 1296x360 with 1 Axes>"
      ]
     },
     "metadata": {
      "needs_background": "light"
     },
     "output_type": "display_data"
    }
   ],
   "source": [
    "plt.figure(figsize=(18, 5))\n",
    "pal = sns.color_palette('husl', 3)\n",
    "sns.pointplot(data=mean, x=\"hour\", y=\"mean\", hue=\"workingday\", palette=['b', 'r', 'grey'])\n",
    "plt.title('시간대별 주문량')"
   ]
  },
  {
   "cell_type": "markdown",
   "id": "40ab6f15",
   "metadata": {},
   "source": [
    " 시간대별 주문량을 주간/주말로 나누어 시각화해본 결과, __오후 2시~3시 사이__ 가 가장 낮은 주문량을 보여 3시에 브레이크 타임을 갖는 것이 적절한 것으로 판단된다. 또한, 저녁시간대와 더불어 점심시간대 역시 주문량이 많은 것으로 나타났기 때문에 특히 __주간의 11시경__ 에 판매 준비를 철저히 하는 것이 필요하다."
   ]
  },
  {
   "cell_type": "code",
   "execution_count": null,
   "id": "38c0a9fa",
   "metadata": {},
   "outputs": [],
   "source": []
  }
 ],
 "metadata": {
  "kernelspec": {
   "display_name": "Python 3 (ipykernel)",
   "language": "python",
   "name": "python3"
  },
  "language_info": {
   "codemirror_mode": {
    "name": "ipython",
    "version": 3
   },
   "file_extension": ".py",
   "mimetype": "text/x-python",
   "name": "python",
   "nbconvert_exporter": "python",
   "pygments_lexer": "ipython3",
   "version": "3.9.7"
  }
 },
 "nbformat": 4,
 "nbformat_minor": 5
}
